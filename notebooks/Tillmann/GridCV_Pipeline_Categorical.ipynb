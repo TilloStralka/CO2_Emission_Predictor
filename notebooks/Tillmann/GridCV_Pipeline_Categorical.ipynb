{
 "cells": [
  {
   "cell_type": "markdown",
   "metadata": {},
   "source": [
    "# GridSearchCV - finding best hyperparameters\n",
    "\n",
    "+ Comparisson of 3 different models to predict a categorical variable (CO2 emission)\n",
    "+ Linear Regression \n",
    "+ RandomForestRegressor \n",
    "+ SVR "
   ]
  },
  {
   "cell_type": "code",
   "execution_count": null,
   "metadata": {},
   "outputs": [],
   "source": [
    "import numpy as np\n",
    "from sklearn.linear_model import LogisticRegression\n",
    "from sklearn.ensemble import RandomForestClassifier\n",
    "from sklearn.svm import SVC\n",
    "from sklearn.model_selection import GridSearchCV, StratifiedKFold, cross_val_score\n",
    "from sklearn.metrics import accuracy_score\n",
    "\n",
    "# Initialize the models\n",
    "clf_lr = LogisticRegression(random_state=22, max_iter=2000)\n",
    "clf_rf = RandomForestClassifier(random_state=22)\n",
    "clf_svc = SVC(random_state=22)\n",
    "\n",
    "# Define parameter grids\n",
    "param_grid_lr = {'solver': ['liblinear', 'lbfgs'], 'C': np.logspace(-4, 2, 9)}\n",
    "\n",
    "param_grid_rf = [{'n_estimators': [10, 50, 100, 250, 500, 1000],\n",
    "                  'min_samples_leaf': [1, 3, 5],\n",
    "                  'max_features': ['sqrt', 'log2']}]\n",
    "\n",
    "param_grid_svc = [{'kernel': ['rbf'], 'C': np.logspace(-4, 4, 9), 'gamma': np.logspace(-4, 0, 4)},\n",
    "                  {'kernel': ['linear'], 'C': np.logspace(-4, 4, 9)}]\n",
    "\n",
    "# Create empty dictionary for GridSearchCV objects\n",
    "gridcvs = {}\n",
    "\n",
    "# Loop through parameter grids and models to create GridSearchCV objects\n",
    "for pgrid, clf, name in zip((param_grid_lr, param_grid_rf, param_grid_svc),\n",
    "                            (clf_lr, clf_rf, clf_svc),\n",
    "                            ('LogisticRegression', 'RandomForest', 'SVM')):\n",
    "    gcv = GridSearchCV(clf, pgrid, cv=3, refit=True)\n",
    "    gridcvs[name] = gcv\n",
    "\n",
    "# Outer cross-validation\n",
    "outer_cv = StratifiedKFold(n_splits=3, shuffle=True, random_state=22)\n",
    "outer_scores = {}\n",
    "\n",
    "# Assume X_train, y_train, X_test, y_test are defined elsewhere in the code\n",
    "for name, gs in gridcvs.items():\n",
    "    # Perform cross-validation and fit the model\n",
    "    gs.fit(X_train, y_train)\n",
    "    \n",
    "    # Get the best parameters after fitting\n",
    "    best_params = gs.best_params_\n",
    "    print(f'{name} Best Parameters: {best_params}')\n",
    "    \n",
    "    # Calculate accuracy on training and test data\n",
    "    train_acc = accuracy_score(y_true=y_train, y_pred=gs.predict(X_train))\n",
    "    test_acc = accuracy_score(y_true=y_test, y_pred=gs.predict(X_test))\n",
    "    \n",
    "    print(f'{name} Training Accuracy: {100*train_acc:.2f}%')\n",
    "    print(f'{name} Test Accuracy: {100*test_acc:.2f}%')\n",
    "    \n",
    "    # Store the outer cross-validation score\n",
    "    nested_score = cross_val_score(gs, X_train, y_train, cv=outer_cv)\n",
    "    outer_scores[name] = nested_score\n",
    "    print(f'{name}: Outer Accuracy {100*nested_score.mean():.2f}% +/- {100*nested_score.std():.2f}%\\n')\n",
    "\n"
   ]
  }
 ],
 "metadata": {
  "language_info": {
   "name": "python"
  }
 },
 "nbformat": 4,
 "nbformat_minor": 2
}
