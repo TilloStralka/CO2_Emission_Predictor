{
 "cells": [
  {
   "cell_type": "markdown",
   "metadata": {},
   "source": [
    "\n",
    "# Comments on what this notebook does:\n",
    "\n",
    "+ Loading of different data sets \n",
    "+ Declaration of data for the pipelin\n",
    "\n",
    "# Pipeline for the preparation\n",
    "+ Fill missing nans with mean of column\n",
    "+ Get rid of the last remaining columns which seem non relevant \n",
    "+ One hot encoding \n",
    "+ Droping of category columns \n",
    "+ Label Encoding of IT column -> Mapping of categorical variables with many Items \n",
    "+ Scaler \n",
    "+ Test Train split \n",
    "\n",
    "# Models \n",
    "+ making of the models \n",
    "+ training of the models \n",
    "+ prediction with the models \n",
    "\n",
    "# Evaluation of Models \n",
    "+ RMSE \n",
    "+ Residuents \n",
    " "
   ]
  },
  {
   "cell_type": "markdown",
   "metadata": {},
   "source": [
    "# Import Libraries"
   ]
  },
  {
   "cell_type": "code",
   "execution_count": 1,
   "metadata": {},
   "outputs": [],
   "source": [
    "# First of all import the required libraries \n",
    "# Data and math  \n",
    "import pandas as pd\n",
    "import numpy as np \n",
    "import pyarrow.parquet as pq\n",
    "\n",
    "# Visualisation \n",
    "import matplotlib.pyplot as plt  # für Matplotlib\n",
    "import seaborn as sns            # für Seaborn\n",
    "import plotly.express as px      # für Plotly Express\n",
    "#%matplotlib inline\n",
    "\n",
    "# Import System Libraries \n",
    "import warnings\n",
    "import os\n",
    "# Ignor all warnings, because there is a front problem with mach \n",
    "warnings.filterwarnings(\"ignore\")\n",
    "\n",
    "# Import Machine Learning libraries \n",
    "from sklearn.model_selection import train_test_split\n",
    "from sklearn.preprocessing import OneHotEncoder, StandardScaler\n",
    "from sklearn.linear_model import LinearRegression\n",
    "from sklearn.metrics import mean_squared_error"
   ]
  },
  {
   "cell_type": "markdown",
   "metadata": {},
   "source": [
    "# Deciding with with data to work (small, big, only diesel, only petrol)"
   ]
  },
  {
   "cell_type": "code",
   "execution_count": 2,
   "metadata": {},
   "outputs": [],
   "source": [
    "# Importing Data \n",
    "# Path to the neighboring 'data' folder\n",
    "data_path = os.path.abspath(os.path.join(os.getcwd(), '..', '..', 'data'))"
   ]
  },
  {
   "cell_type": "code",
   "execution_count": 3,
   "metadata": {},
   "outputs": [
    {
     "name": "stdout",
     "output_type": "stream",
     "text": [
      "Shape of tillmanns big df: (8095869, 21)\n",
      "       Mk  Ct  Cr  m (kg)      Mt  Ewltp (g/km)  W (mm)  At1 (mm)  At2 (mm)  \\\n",
      "0  SUZUKI  M1  M1  1045.0  1151.0         135.0  2450.0    1510.0    1515.0   \n",
      "1  SUZUKI  M1  M1   915.0  1051.0         115.0  2450.0    1530.0    1530.0   \n",
      "2  SUZUKI  M1  M1   915.0  1051.0         115.0  2450.0    1520.0    1520.0   \n",
      "3   SKODA  M1  M1  1560.0     NaN         146.0  2836.0    1578.0    1566.0   \n",
      "4     BMW  M1  M1  1490.0  1578.0         149.0  2670.0    1563.0    1562.0   \n",
      "\n",
      "       Ft  ... ec (cm3)  ep (KW)  z (Wh/km)      IT  De   Vf  ech  RLFI  \\\n",
      "0  PETROL  ...   1373.0    103.0        NaN     NaN NaN  0.0  NaN   NaN   \n",
      "1  PETROL  ...   1242.0     66.0        NaN     NaN NaN  0.0  NaN   NaN   \n",
      "2  PETROL  ...   1242.0     66.0        NaN     NaN NaN  0.0  NaN   NaN   \n",
      "3  DIESEL  ...   1968.0    110.0        NaN     NaN NaN  0.0  NaN   NaN   \n",
      "4  PETROL  ...   1499.0    103.0        NaN  e24 19 NaN  0.0  NaN   NaN   \n",
      "\n",
      "   Electric range (km)  #identical occurences  \n",
      "0                  NaN                   86.0  \n",
      "1                  NaN                   36.0  \n",
      "2                  NaN                  109.0  \n",
      "3                  NaN                   31.0  \n",
      "4                  NaN                   28.0  \n",
      "\n",
      "[5 rows x 21 columns]\n"
     ]
    },
    {
     "data": {
      "text/plain": [
       "'\\n# Big Diesel only Dataframe \\ndf_small = pd.read_csv(os.path.join(data_path, \\'EU_Tillmann_Small.csv\\'))\\nprint(\"Shape of tillmanns small df:\", df_small.shape)\\nprint(df_small.head())\\n\\n\\n# Big Petrol only Dataframe \\ndf_smallsmall = pd.read_csv(os.path.join(data_path, \\'EU_Tillmann_SmallSmall.csv\\'))\\nprint(\"Shape of tillmanns small small df:\", df_smallsmall.shape)\\nprint(df_smallsmall.head())\\n'"
      ]
     },
     "execution_count": 3,
     "metadata": {},
     "output_type": "execute_result"
    }
   ],
   "source": [
    "\n",
    "# Big Dataframe \n",
    "df_big = pd.read_csv(os.path.join(data_path, 'EU_Tillmann_Big.csv'))\n",
    "print(\"Shape of tillmanns big df:\", df_big.shape)\n",
    "print(df_big.head())\n",
    "\n",
    "\"\"\"\n",
    "# Big Diesel only Dataframe \n",
    "df_diesel = pd.read_csv(os.path.join(data_path, 'EU_Tillmann_Diesel.csv'))\n",
    "print(\"Shape of tillmanns diesel df:\", df_diesel.shape)\n",
    "print(df_diesel.head())\n",
    "\n",
    "# Big Petrol only Dataframe \n",
    "df_petrol = pd.read_csv(os.path.join(data_path, 'EU_Tillmann_Petrol.csv'))\n",
    "print(\"Shape of tillmanns petrol df:\", df_petrol.shape)\n",
    "print(df_petrol.head())\n",
    "\"\"\"\n",
    "\"\"\"\n",
    "# Big Diesel only Dataframe \n",
    "df_small = pd.read_csv(os.path.join(data_path, 'EU_Tillmann_Small.csv'))\n",
    "print(\"Shape of tillmanns small df:\", df_small.shape)\n",
    "print(df_small.head())\n",
    "\n",
    "\n",
    "# Big Petrol only Dataframe \n",
    "df_smallsmall = pd.read_csv(os.path.join(data_path, 'EU_Tillmann_SmallSmall.csv'))\n",
    "print(\"Shape of tillmanns small small df:\", df_smallsmall.shape)\n",
    "print(df_smallsmall.head())\n",
    "\"\"\""
   ]
  },
  {
   "cell_type": "code",
   "execution_count": 4,
   "metadata": {},
   "outputs": [
    {
     "name": "stdout",
     "output_type": "stream",
     "text": [
      "Mk                        object\n",
      "Ct                        object\n",
      "Cr                        object\n",
      "m (kg)                   float64\n",
      "Mt                       float64\n",
      "Ewltp (g/km)             float64\n",
      "W (mm)                   float64\n",
      "At1 (mm)                 float64\n",
      "At2 (mm)                 float64\n",
      "Ft                        object\n",
      "Fm                        object\n",
      "ec (cm3)                 float64\n",
      "ep (KW)                  float64\n",
      "z (Wh/km)                float64\n",
      "IT                        object\n",
      "De                       float64\n",
      "Vf                       float64\n",
      "ech                      float64\n",
      "RLFI                     float64\n",
      "Electric range (km)      float64\n",
      "#identical occurences    float64\n",
      "dtype: object\n"
     ]
    }
   ],
   "source": [
    "# Declare df for ML data preparation pipeline \n",
    "data = df_big\n",
    "data.head()\n",
    "print(data.dtypes)"
   ]
  },
  {
   "cell_type": "code",
   "execution_count": 5,
   "metadata": {},
   "outputs": [
    {
     "name": "stdout",
     "output_type": "stream",
     "text": [
      "Index(['Mk', 'Ct', 'Cr', 'm (kg)', 'Mt', 'Ewltp (g/km)', 'W (mm)', 'At1 (mm)',\n",
      "       'At2 (mm)', 'Ft', 'Fm', 'ec (cm3)', 'ep (KW)', 'z (Wh/km)', 'IT', 'De',\n",
      "       'Vf', 'ech', 'RLFI', 'Electric range (km)', '#identical occurences'],\n",
      "      dtype='object')\n",
      "Dropped columns: ['Mk', 'Cr', 'ech', 'RLFI', '#identical occurences', 'De', 'Vf']\n",
      "   Ct  m (kg)      Mt  Ewltp (g/km)  W (mm)  At1 (mm)  At2 (mm)      Ft Fm  \\\n",
      "0  M1  1045.0  1151.0         135.0  2450.0    1510.0    1515.0  PETROL  M   \n",
      "1  M1   915.0  1051.0         115.0  2450.0    1530.0    1530.0  PETROL  M   \n",
      "2  M1   915.0  1051.0         115.0  2450.0    1520.0    1520.0  PETROL  M   \n",
      "3  M1  1560.0     NaN         146.0  2836.0    1578.0    1566.0  DIESEL  M   \n",
      "4  M1  1490.0  1578.0         149.0  2670.0    1563.0    1562.0  PETROL  M   \n",
      "\n",
      "   ec (cm3)  ep (KW)  z (Wh/km)      IT  Electric range (km)  \n",
      "0    1373.0    103.0        NaN     NaN                  NaN  \n",
      "1    1242.0     66.0        NaN     NaN                  NaN  \n",
      "2    1242.0     66.0        NaN     NaN                  NaN  \n",
      "3    1968.0    110.0        NaN     NaN                  NaN  \n",
      "4    1499.0    103.0        NaN  e24 19                  NaN  \n"
     ]
    }
   ],
   "source": [
    "# Delete columns without meaning for the model\n",
    "print(data.columns)\n",
    "\n",
    "# List of columns to be dropped\n",
    "list_columns_drop = ['Mk', 'Cr', 'ech', 'RLFI', '#identical occurences', 'De', 'Vf']\n",
    "\n",
    "# Filter only the columns that exist in the DataFrame\n",
    "existing_columns_to_drop = [col for col in list_columns_drop if col in data.columns]\n",
    "\n",
    "# Drop the existing columns\n",
    "if existing_columns_to_drop:\n",
    "    data.drop(existing_columns_to_drop, axis=1, inplace=True)\n",
    "    print(f\"Dropped columns: {existing_columns_to_drop}\")\n",
    "else:\n",
    "    print(\"No columns to drop were found in the DataFrame.\")\n",
    "\n",
    "# Display the updated DataFrame\n",
    "print(data.head())\n"
   ]
  },
  {
   "cell_type": "markdown",
   "metadata": {},
   "source": [
    "# 1.A Outlier Handling "
   ]
  },
  {
   "cell_type": "code",
   "execution_count": 6,
   "metadata": {},
   "outputs": [
    {
     "data": {
      "text/plain": [
       "\"\\n# Recall that Linear Models assume normality. Let's also check how normal the distribution of the num variables are\\n\\n# Exclude 'year' column and select int64 columns only\\nnumb_columns = data.select_dtypes(include='float64').columns\\n\\n# Plot histograms to visualize distribution of each int64 column\\nplt.figure(figsize=(15, 10))\\nfor i, column in enumerate(numb_columns, 1):\\n    plt.subplot(len(numb_columns) // 3 + 1, 3, i)  # Creating subplots\\n    sns.histplot(data[column], kde=True)\\n    plt.title(f'Distribution of {column}')\\n    plt.tight_layout()\\nplt.show()\\n\""
      ]
     },
     "execution_count": 6,
     "metadata": {},
     "output_type": "execute_result"
    }
   ],
   "source": [
    "\"\"\"\n",
    "# Recall that Linear Models assume normality. Let's also check how normal the distribution of the num variables are\n",
    "\n",
    "# Exclude 'year' column and select int64 columns only\n",
    "numb_columns = data.select_dtypes(include='float64').columns\n",
    "\n",
    "# Plot histograms to visualize distribution of each int64 column\n",
    "plt.figure(figsize=(15, 10))\n",
    "for i, column in enumerate(numb_columns, 1):\n",
    "    plt.subplot(len(numb_columns) // 3 + 1, 3, i)  # Creating subplots\n",
    "    sns.histplot(data[column], kde=True)\n",
    "    plt.title(f'Distribution of {column}')\n",
    "    plt.tight_layout()\n",
    "plt.show()\n",
    "\"\"\""
   ]
  },
  {
   "cell_type": "code",
   "execution_count": 7,
   "metadata": {},
   "outputs": [
    {
     "data": {
      "text/plain": [
       "'\\nfrom scipy.stats import shapiro\\n\\n#  Define a function to check normality using Shapiro-Wilk test\\ndef check_gaussian_columns(df, alpha=1):\\n    gaussian_columns = []\\n    non_gaussian_columns = []\\n\\n    for col in df.columns:\\n        if pd.api.types.is_numeric_dtype(df[col]):  # Check only numeric columns\\n            stat, p_value = shapiro(df[col].dropna())  # Perform the test\\n            \\n            # Check if the p-value is greater than alpha (fail to reject the null hypothesis)\\n            if p_value > alpha:\\n                gaussian_columns.append(col)\\n            else:\\n                non_gaussian_columns.append(col)\\n                \\n    return gaussian_columns, non_gaussian_columns\\n\\n# Apply the function on your DataFrame\\ngaussian_cols, non_gaussian_cols = check_gaussian_columns(data)\\n\\n# Print the results\\nprint(\"Nearly Gaussian Distributed Columns:\", gaussian_cols)\\nprint(\"Non-Gaussian Distributed Columns:\", non_gaussian_cols)\\n'"
      ]
     },
     "execution_count": 7,
     "metadata": {},
     "output_type": "execute_result"
    }
   ],
   "source": [
    "\"\"\"\n",
    "from scipy.stats import shapiro\n",
    "\n",
    "#  Define a function to check normality using Shapiro-Wilk test\n",
    "def check_gaussian_columns(df, alpha=1):\n",
    "    gaussian_columns = []\n",
    "    non_gaussian_columns = []\n",
    "\n",
    "    for col in df.columns:\n",
    "        if pd.api.types.is_numeric_dtype(df[col]):  # Check only numeric columns\n",
    "            stat, p_value = shapiro(df[col].dropna())  # Perform the test\n",
    "            \n",
    "            # Check if the p-value is greater than alpha (fail to reject the null hypothesis)\n",
    "            if p_value > alpha:\n",
    "                gaussian_columns.append(col)\n",
    "            else:\n",
    "                non_gaussian_columns.append(col)\n",
    "                \n",
    "    return gaussian_columns, non_gaussian_columns\n",
    "\n",
    "# Apply the function on your DataFrame\n",
    "gaussian_cols, non_gaussian_cols = check_gaussian_columns(data)\n",
    "\n",
    "# Print the results\n",
    "print(\"Nearly Gaussian Distributed Columns:\", gaussian_cols)\n",
    "print(\"Non-Gaussian Distributed Columns:\", non_gaussian_cols)\n",
    "\"\"\""
   ]
  },
  {
   "cell_type": "code",
   "execution_count": 8,
   "metadata": {},
   "outputs": [],
   "source": [
    "# Since the near gaussian distribution test is not working I am declaring them by visual: \n",
    "gaussian_cols = ['m (kg)', 'Mt',  'W (mm)', 'At1 (mm)', 'At2 (mm)',  'z (Wh/km)', 'Electric range (km)']\n",
    "non_gaussian_cols = [ 'ec (cm3)', 'ep (KW)']"
   ]
  },
  {
   "cell_type": "code",
   "execution_count": 9,
   "metadata": {},
   "outputs": [
    {
     "name": "stdout",
     "output_type": "stream",
     "text": [
      "DataFrame shape after replacing outliers in Gaussian columns: (8095869, 14)\n"
     ]
    }
   ],
   "source": [
    "# Assuming gaussian_cols is already defined (e.g., from the Shapiro-Wilk test)\n",
    "# Make median method for columns which are gaussian distributed\n",
    "Q1 = data[gaussian_cols].quantile(0.25)\n",
    "Q3 = data[gaussian_cols].quantile(0.75)\n",
    "IQR = Q3 - Q1\n",
    "\n",
    "# Define conditions to identify outliers based on IQR only for Gaussian columns\n",
    "outlier_condition = ((data[gaussian_cols] < (Q1 - 1.5 * IQR)) | \n",
    "                     (data[gaussian_cols] > (Q3 + 1.5 * IQR)))\n",
    "\n",
    "# Replace outliers with the median of their respective columns\n",
    "for col in gaussian_cols:\n",
    "    median_value = data[col].median()  # Calculate the median for the column\n",
    "    data.loc[outlier_condition[col], col] = median_value  # Replace outliers with the median\n",
    "\n",
    "print(f\"DataFrame shape after replacing outliers in Gaussian columns: {data.shape}\")\n",
    "\n"
   ]
  },
  {
   "cell_type": "code",
   "execution_count": 10,
   "metadata": {},
   "outputs": [],
   "source": [
    "# For non gaussian distributed columns \n",
    "def iqr_outlier_removal(df):\n",
    "    outliers_removed = df.copy()\n",
    "    \n",
    "    for col in df.columns:\n",
    "        if pd.api.types.is_numeric_dtype(df[col]):  # Only numeric columns\n",
    "            Q1 = df[col].quantile(0.25)\n",
    "            Q3 = df[col].quantile(0.75)\n",
    "            IQR = Q3 - Q1\n",
    "            lower_bound = Q1 - 1.5 * IQR\n",
    "            upper_bound = Q3 + 1.5 * IQR\n",
    "\n",
    "            # Remove or cap outliers outside the range\n",
    "            outliers_removed[col] = np.where(df[col] < lower_bound, lower_bound,\n",
    "                                             np.where(df[col] > upper_bound, upper_bound, df[col]))\n",
    "    \n",
    "    return outliers_removed\n",
    "\n",
    "# Apply to your DataFrame\n",
    "df_no_outliers = iqr_outlier_removal(data)\n"
   ]
  },
  {
   "cell_type": "markdown",
   "metadata": {},
   "source": [
    "#  1.C The problem of the IT columb solving the mapping to be able to do OneHot Encoding \n",
    "\n",
    "+ separate column into IT_missing, IT capital E and IT small e \n",
    "+ One Hot encoding of e_small and E_capital \n",
    "+ deleting of the "
   ]
  },
  {
   "cell_type": "code",
   "execution_count": 11,
   "metadata": {},
   "outputs": [
    {
     "name": "stdout",
     "output_type": "stream",
     "text": [
      "object\n",
      "0          NaN\n",
      "1          NaN\n",
      "2          NaN\n",
      "3          NaN\n",
      "4          e24\n",
      "          ... \n",
      "8095864    NaN\n",
      "8095865    NaN\n",
      "8095866    e24\n",
      "8095867    NaN\n",
      "8095868    e24\n",
      "Name: IT, Length: 8095869, dtype: object\n"
     ]
    }
   ],
   "source": [
    "# Check the current dtype\n",
    "print(data['IT'].dtype)\n",
    "\n",
    "# Define the function to extract the first part of the string and handle non-'e'/'E' values\n",
    "def extract_first_part(s):\n",
    "    if isinstance(s, str):  # Check if the value is a string\n",
    "        s = s.strip()  # Strip any leading/trailing whitespace\n",
    "        if not s:  # If the string is empty\n",
    "            return np.nan  # Replace empty string with NaN\n",
    "        \n",
    "        if s[0].lower() == 'e':  # Check if the string starts with 'e' or 'E'\n",
    "            first_part = s[0:3]  # Keep the first three characters\n",
    "            if len(first_part) > 2 and first_part[1:].isdigit():  # Ensure it’s followed by digits\n",
    "                return first_part  # Return 'e12', 'E23', etc.\n",
    "            else:\n",
    "                return np.nan  # Replace malformed entries like 'e' with NaN\n",
    "        else:\n",
    "            return np.nan  # Replace any string that doesn’t start with 'e' or 'E' with NaN\n",
    "    return s  # Return the original value (NaN) if it's not a string\n",
    "\n",
    "# Apply the function to the specified column while keeping existing NaNs\n",
    "data['IT'] = data['IT'].apply(extract_first_part)\n",
    "\n",
    "# Display the modified DataFrame\n",
    "print(data['IT'])\n"
   ]
  },
  {
   "cell_type": "code",
   "execution_count": 12,
   "metadata": {},
   "outputs": [
    {
     "name": "stdout",
     "output_type": "stream",
     "text": [
      "[nan 'e24' 'e11' 'e13' 'E24' 'E13' 'E19' 'E11' 'E12' 'e19' 'e29' 'e17'\n",
      " 'e34' 'e20' 'e12' 'e27' 'e51' 'e22' 'e21' 'E17' 'E22' 'e91' 'E41' 'E51'\n",
      " 'E25' 'E27' 'e01' 'e14' 'E20' 'e25' 'e61' 'E14' 'e41' 'E16' 'E36' 'e36'\n",
      " 'e81' 'e23' 'e42' 'e33' 'E52' 'E53' 'e26' 'E29' 'e16' 'e28' 'e32' 'E37'\n",
      " 'E62' 'E63' 'E32' 'e62' 'E93' 'E92' 'E18' 'E26' 'E61']\n"
     ]
    }
   ],
   "source": [
    "# Get unique values in 'IT' column\n",
    "unique_IT_values = data['IT'].unique()\n",
    "print(unique_IT_values)"
   ]
  },
  {
   "cell_type": "code",
   "execution_count": 13,
   "metadata": {},
   "outputs": [
    {
     "name": "stdout",
     "output_type": "stream",
     "text": [
      "         Ct  m (kg)      Mt  Ewltp (g/km)  W (mm)  At1 (mm)  At2 (mm)      Ft  \\\n",
      "0        M1  1045.0  1151.0         135.0  2450.0    1510.0    1515.0  PETROL   \n",
      "1        M1   915.0  1051.0         115.0  2450.0    1530.0    1530.0  PETROL   \n",
      "2        M1   915.0  1051.0         115.0  2450.0    1520.0    1520.0  PETROL   \n",
      "3        M1  1560.0     NaN         146.0  2836.0    1578.0    1566.0  DIESEL   \n",
      "4        M1  1490.0  1578.0         149.0  2670.0    1563.0    1562.0  PETROL   \n",
      "...      ..     ...     ...           ...     ...       ...       ...     ...   \n",
      "8095864  M1  1140.0  1257.0         119.0  2580.0    1531.0    1536.0  PETROL   \n",
      "8095865  M1  1500.0  1619.0         151.0  2680.0    1615.0    1622.0  PETROL   \n",
      "8095866  M1  1730.0  1902.0         164.0  2851.0    1573.0    1587.0  PETROL   \n",
      "8095867  M1  1456.0  1537.0         133.0  2720.0    1562.0    1584.0  PETROL   \n",
      "8095868  M1  1940.0  2126.0         147.0  2975.0    1605.0    1630.0  DIESEL   \n",
      "\n",
      "        Fm  ec (cm3)  ep (KW)  z (Wh/km)   IT  Electric range (km) IT_Number  \n",
      "0        M    1373.0    103.0        NaN  NaN                  NaN       NaN  \n",
      "1        M    1242.0     66.0        NaN  NaN                  NaN       NaN  \n",
      "2        M    1242.0     66.0        NaN  NaN                  NaN       NaN  \n",
      "3        M    1968.0    110.0        NaN  NaN                  NaN       NaN  \n",
      "4        M    1499.0    103.0        NaN  e24                  NaN        24  \n",
      "...     ..       ...      ...        ...  ...                  ...       ...  \n",
      "8095864  M     998.0     74.0        NaN  NaN                  NaN       NaN  \n",
      "8095865  M    1598.0    110.0        NaN  NaN                  NaN       NaN  \n",
      "8095866  M    1998.0    190.0        NaN  e24                  NaN        24  \n",
      "8095867  H    1332.0    103.0        NaN  NaN                  NaN       NaN  \n",
      "8095868  H    2993.0    210.0        NaN  e24                  NaN        24  \n",
      "\n",
      "[8095869 rows x 15 columns]\n"
     ]
    }
   ],
   "source": [
    "import re\n",
    "# Analyzing the IT column \n",
    "# Create IT_Number column that extracts numbers after 'e' or 'E'\n",
    "def extract_number(s):\n",
    "    if isinstance(s, str) and (s.startswith('e') or s.startswith('E')):\n",
    "        return re.search(r'\\d+', s).group()  # Extract numeric part after e or E\n",
    "    return np.nan  # Return NaN if the conditions are not met\n",
    "\n",
    "# Apply the function to create the IT_Number column\n",
    "data['IT_Number'] = data['IT'].apply(extract_number)\n",
    "\n",
    "# Display the modified DataFrame\n",
    "print(data)\n"
   ]
  },
  {
   "cell_type": "code",
   "execution_count": 14,
   "metadata": {},
   "outputs": [
    {
     "data": {
      "image/png": "[encoded data removed]",
      "text/plain": [
       "<Figure size 1000x600 with 1 Axes>"
      ]
     },
     "metadata": {},
     "output_type": "display_data"
    }
   ],
   "source": [
    "# Plotting of IT column vs CO2 emission - to see if there is a correlation \n",
    "# Drop rows with NaN values in either 'IT_Number' or 'Ewltp (g/km)'\n",
    "filtered_data = data.dropna(subset=['IT_Number', 'Ewltp (g/km)'])\n",
    "\n",
    "# Plotting\n",
    "plt.figure(figsize=(10, 6))\n",
    "plt.scatter(filtered_data['IT_Number'], filtered_data['Ewltp (g/km)'], alpha=0.7)\n",
    "plt.title('Scatter Plot of IT_Number vs. Ewltp (g/km)')\n",
    "plt.xlabel('IT_Number')\n",
    "plt.ylabel('Ewltp (g/km)')\n",
    "plt.grid(True)\n",
    "plt.xticks(rotation=45)  # Rotate x-ticks if needed for better readability\n",
    "plt.tight_layout()  # Adjust layout to fit labels\n",
    "\n",
    "# Show the plot\n",
    "plt.show()"
   ]
  },
  {
   "cell_type": "markdown",
   "metadata": {},
   "source": [
    "+ IT number has no correlation with CO2 emission, so we make a simple one hot encoding and generate a lot of columns \n",
    "+ also with one IT-number missing column "
   ]
  },
  {
   "cell_type": "code",
   "execution_count": 15,
   "metadata": {},
   "outputs": [],
   "source": [
    "# Drop the 'IT_Number' column, it has no meaning\n",
    "data.drop(columns=['IT_Number'], inplace=True)"
   ]
  },
  {
   "cell_type": "code",
   "execution_count": 16,
   "metadata": {},
   "outputs": [
    {
     "data": {
      "text/plain": [
       "Index(['Ct', 'm (kg)', 'Mt', 'Ewltp (g/km)', 'W (mm)', 'At1 (mm)', 'At2 (mm)',\n",
       "       'Ft', 'Fm', 'ec (cm3)', 'ep (KW)', 'z (Wh/km)', 'IT',\n",
       "       'Electric range (km)'],\n",
       "      dtype='object')"
      ]
     },
     "execution_count": 16,
     "metadata": {},
     "output_type": "execute_result"
    }
   ],
   "source": [
    "data.columns"
   ]
  },
  {
   "cell_type": "markdown",
   "metadata": {},
   "source": [
    "# 1. C Hanlding of non electric cars"
   ]
  },
  {
   "cell_type": "code",
   "execution_count": 17,
   "metadata": {},
   "outputs": [
    {
     "name": "stdout",
     "output_type": "stream",
     "text": [
      "         Ct  m (kg)      Mt  Ewltp (g/km)  W (mm)  At1 (mm)  At2 (mm)      Ft  \\\n",
      "0        M1  1045.0  1151.0         135.0  2450.0    1510.0    1515.0  PETROL   \n",
      "1        M1   915.0  1051.0         115.0  2450.0    1530.0    1530.0  PETROL   \n",
      "2        M1   915.0  1051.0         115.0  2450.0    1520.0    1520.0  PETROL   \n",
      "3        M1  1560.0     NaN         146.0  2836.0    1578.0    1566.0  DIESEL   \n",
      "4        M1  1490.0  1578.0         149.0  2670.0    1563.0    1562.0  PETROL   \n",
      "...      ..     ...     ...           ...     ...       ...       ...     ...   \n",
      "8095864  M1  1140.0  1257.0         119.0  2580.0    1531.0    1536.0  PETROL   \n",
      "8095865  M1  1500.0  1619.0         151.0  2680.0    1615.0    1622.0  PETROL   \n",
      "8095866  M1  1730.0  1902.0         164.0  2851.0    1573.0    1587.0  PETROL   \n",
      "8095867  M1  1456.0  1537.0         133.0  2720.0    1562.0    1584.0  PETROL   \n",
      "8095868  M1  1940.0  2126.0         147.0  2975.0    1605.0    1630.0  DIESEL   \n",
      "\n",
      "        Fm  ec (cm3)  ep (KW)  z (Wh/km)   IT  Electric range (km)  \\\n",
      "0        M    1373.0    103.0        0.0  NaN                  0.0   \n",
      "1        M    1242.0     66.0        0.0  NaN                  0.0   \n",
      "2        M    1242.0     66.0        0.0  NaN                  0.0   \n",
      "3        M    1968.0    110.0        0.0  NaN                  0.0   \n",
      "4        M    1499.0    103.0        0.0  e24                  0.0   \n",
      "...     ..       ...      ...        ...  ...                  ...   \n",
      "8095864  M     998.0     74.0        0.0  NaN                  0.0   \n",
      "8095865  M    1598.0    110.0        0.0  NaN                  0.0   \n",
      "8095866  M    1998.0    190.0        0.0  e24                  0.0   \n",
      "8095867  H    1332.0    103.0        0.0  NaN                  0.0   \n",
      "8095868  H    2993.0    210.0        0.0  e24                  0.0   \n",
      "\n",
      "         Non_Electric  \n",
      "0                   1  \n",
      "1                   1  \n",
      "2                   1  \n",
      "3                   1  \n",
      "4                   1  \n",
      "...               ...  \n",
      "8095864             1  \n",
      "8095865             1  \n",
      "8095866             1  \n",
      "8095867             1  \n",
      "8095868             1  \n",
      "\n",
      "[8095869 rows x 15 columns]\n"
     ]
    }
   ],
   "source": [
    "# If there is a nan in Electric range or a nan in z\n",
    "# Create the Non_Electric column: 1 if both Electric range OR z (Wh/km) are NaN, otherwise 0\n",
    "data['Non_Electric'] = (data['Electric range (km)'].isna() & data['z (Wh/km)'].isna()).astype(int)\n",
    "\n",
    "# Fill NaN values in Electric range (km) and z (Wh/km) with 0\n",
    "data['Electric range (km)'].fillna(0, inplace=True)\n",
    "data['z (Wh/km)'].fillna(0, inplace=True)\n",
    "\n",
    "# Display the updated DataFrame\n",
    "print(data)"
   ]
  },
  {
   "cell_type": "markdown",
   "metadata": {},
   "source": [
    "# 1.B Handle missing values (if any)\n"
   ]
  },
  {
   "cell_type": "code",
   "execution_count": 18,
   "metadata": {},
   "outputs": [
    {
     "name": "stdout",
     "output_type": "stream",
     "text": [
      "                    Data Type  Unique Values  Missing Values (%)\n",
      "Non_Electric            int64            NaN            0.000000\n",
      "At1 (mm)              float64            NaN            0.000000\n",
      "At2 (mm)              float64            NaN            0.000000\n",
      "Electric range (km)   float64            NaN            0.000000\n",
      "Ewltp (g/km)          float64            NaN            0.000000\n",
      "Mt                    float64            NaN            3.083671\n",
      "W (mm)                float64            NaN            0.000000\n",
      "ec (cm3)              float64            NaN            0.000000\n",
      "ep (KW)               float64            NaN            0.000000\n",
      "m (kg)                float64            NaN            0.036302\n",
      "z (Wh/km)             float64            NaN            0.000000\n",
      "Ct                     object            6.0            0.000062\n",
      "Fm                     object            6.0            0.000222\n",
      "Ft                     object            9.0            0.004249\n",
      "IT                     object           56.0           83.858879\n"
     ]
    },
    {
     "data": {
      "text/plain": [
       "(8095869, 15)"
      ]
     },
     "execution_count": 18,
     "metadata": {},
     "output_type": "execute_result"
    }
   ],
   "source": [
    "\n",
    "# Check summary (prenving that missing values have been re-introduced)\n",
    "\n",
    "# Get the data types of each column\n",
    "data_types = data.dtypes\n",
    "\n",
    "# Get the number of unique values for each categorical column\n",
    "unique_values = data.select_dtypes(include=['category', 'object']).nunique()\n",
    "\n",
    "# Get the percentage of missing values for each column\n",
    "missing_values = data.isnull().mean() * 100\n",
    "\n",
    "# Combine the information into a DataFrame\n",
    "summary_df = pd.DataFrame({'Data Type': data_types, 'Unique Values': unique_values, 'Missing Values (%)': missing_values})\n",
    "\n",
    "# Sort the DataFrame by 'Data Type' to group by data type\n",
    "summary_df = summary_df.sort_values(by='Data Type')\n",
    "\n",
    "# Print the summary DataFrame\n",
    "print(summary_df)\n",
    "\n",
    "data.shape"
   ]
  },
  {
   "cell_type": "markdown",
   "metadata": {},
   "source": [
    "+ Fill nans with mean for numerical variables "
   ]
  },
  {
   "cell_type": "code",
   "execution_count": 19,
   "metadata": {},
   "outputs": [
    {
     "name": "stdout",
     "output_type": "stream",
     "text": [
      "         Ct  m (kg)      Mt  Ewltp (g/km)  W (mm)  At1 (mm)  At2 (mm)      Ft  \\\n",
      "0        M1  1045.0  1151.0         135.0  2450.0    1510.0    1515.0  PETROL   \n",
      "1        M1   915.0  1051.0         115.0  2450.0    1530.0    1530.0  PETROL   \n",
      "2        M1   915.0  1051.0         115.0  2450.0    1520.0    1520.0  PETROL   \n",
      "4        M1  1490.0  1578.0         149.0  2670.0    1563.0    1562.0  PETROL   \n",
      "5        M1  1490.0  1581.0         150.0  2670.0    1563.0    1562.0  PETROL   \n",
      "...      ..     ...     ...           ...     ...       ...       ...     ...   \n",
      "8095864  M1  1140.0  1257.0         119.0  2580.0    1531.0    1536.0  PETROL   \n",
      "8095865  M1  1500.0  1619.0         151.0  2680.0    1615.0    1622.0  PETROL   \n",
      "8095866  M1  1730.0  1902.0         164.0  2851.0    1573.0    1587.0  PETROL   \n",
      "8095867  M1  1456.0  1537.0         133.0  2720.0    1562.0    1584.0  PETROL   \n",
      "8095868  M1  1940.0  2126.0         147.0  2975.0    1605.0    1630.0  DIESEL   \n",
      "\n",
      "        Fm  ec (cm3)  ep (KW)  z (Wh/km)   IT  Electric range (km)  \\\n",
      "0        M    1373.0    103.0        0.0  NaN                  0.0   \n",
      "1        M    1242.0     66.0        0.0  NaN                  0.0   \n",
      "2        M    1242.0     66.0        0.0  NaN                  0.0   \n",
      "4        M    1499.0    103.0        0.0  e24                  0.0   \n",
      "5        M    1499.0    103.0        0.0  e24                  0.0   \n",
      "...     ..       ...      ...        ...  ...                  ...   \n",
      "8095864  M     998.0     74.0        0.0  NaN                  0.0   \n",
      "8095865  M    1598.0    110.0        0.0  NaN                  0.0   \n",
      "8095866  M    1998.0    190.0        0.0  e24                  0.0   \n",
      "8095867  H    1332.0    103.0        0.0  NaN                  0.0   \n",
      "8095868  H    2993.0    210.0        0.0  e24                  0.0   \n",
      "\n",
      "         Non_Electric  \n",
      "0                   1  \n",
      "1                   1  \n",
      "2                   1  \n",
      "4                   1  \n",
      "5                   1  \n",
      "...               ...  \n",
      "8095864             1  \n",
      "8095865             1  \n",
      "8095866             1  \n",
      "8095867             1  \n",
      "8095868             1  \n",
      "\n",
      "[7843353 rows x 15 columns]\n"
     ]
    }
   ],
   "source": [
    "# Drop rows with NaN values in numeric columns (float64 or int64)\n",
    "data.dropna(subset=data.select_dtypes(include=['float64', 'int64']).columns, inplace=True)\n",
    "\n",
    "# Display the modified DataFrame to verify the changes\n",
    "print(data)"
   ]
  },
  {
   "cell_type": "markdown",
   "metadata": {},
   "source": [
    "+ fill nans with 'Missing' for the categorical variables"
   ]
  },
  {
   "cell_type": "code",
   "execution_count": 20,
   "metadata": {},
   "outputs": [
    {
     "name": "stdout",
     "output_type": "stream",
     "text": [
      "Ct                      object\n",
      "m (kg)                 float64\n",
      "Mt                     float64\n",
      "Ewltp (g/km)           float64\n",
      "W (mm)                 float64\n",
      "At1 (mm)               float64\n",
      "At2 (mm)               float64\n",
      "Ft                      object\n",
      "Fm                      object\n",
      "ec (cm3)               float64\n",
      "ep (KW)                float64\n",
      "z (Wh/km)              float64\n",
      "IT                      object\n",
      "Electric range (km)    float64\n",
      "Non_Electric             int64\n",
      "dtype: object\n",
      "Columns with NaN values in:\n",
      "Series([], dtype: int64)\n"
     ]
    }
   ],
   "source": [
    "print(data.dtypes)\n",
    "\n",
    "# Automatically find categorical columns (object or category dtype)\n",
    "categorical_columns = data.select_dtypes(include=['object', 'category']).columns\n",
    "\n",
    "# Replace NaNs in each categorical column with 'Missing'\n",
    "data[categorical_columns] = data[categorical_columns].fillna('Missing')\n",
    "# Check for NaN values in X_train\n",
    "nans = data.isna().sum()\n",
    "\n",
    "# Filter and print columns with NaN values\n",
    "nans_with_values = nans[nans > 0]\n",
    "print(f\"Columns with NaN values in:\\n{nans_with_values}\")\n"
   ]
  },
  {
   "cell_type": "code",
   "execution_count": 21,
   "metadata": {},
   "outputs": [
    {
     "name": "stdout",
     "output_type": "stream",
     "text": [
      "Index(['Ct', 'm (kg)', 'Mt', 'Ewltp (g/km)', 'W (mm)', 'At1 (mm)', 'At2 (mm)',\n",
      "       'Ft', 'Fm', 'ec (cm3)', 'ep (KW)', 'z (Wh/km)', 'IT',\n",
      "       'Electric range (km)', 'Non_Electric'],\n",
      "      dtype='object')\n",
      "Columns with NaN values in:\n",
      "Series([], dtype: int64)\n",
      "         Ct  m (kg)      Mt  Ewltp (g/km)  W (mm)  At1 (mm)  At2 (mm)      Ft  \\\n",
      "8095864  M1  1140.0  1257.0         119.0  2580.0    1531.0    1536.0  PETROL   \n",
      "8095865  M1  1500.0  1619.0         151.0  2680.0    1615.0    1622.0  PETROL   \n",
      "8095866  M1  1730.0  1902.0         164.0  2851.0    1573.0    1587.0  PETROL   \n",
      "8095867  M1  1456.0  1537.0         133.0  2720.0    1562.0    1584.0  PETROL   \n",
      "8095868  M1  1940.0  2126.0         147.0  2975.0    1605.0    1630.0  DIESEL   \n",
      "\n",
      "        Fm  ec (cm3)  ep (KW)  z (Wh/km)       IT  Electric range (km)  \\\n",
      "8095864  M     998.0     74.0        0.0  Missing                  0.0   \n",
      "8095865  M    1598.0    110.0        0.0  Missing                  0.0   \n",
      "8095866  M    1998.0    190.0        0.0      e24                  0.0   \n",
      "8095867  H    1332.0    103.0        0.0  Missing                  0.0   \n",
      "8095868  H    2993.0    210.0        0.0      e24                  0.0   \n",
      "\n",
      "         Non_Electric  \n",
      "8095864             1  \n",
      "8095865             1  \n",
      "8095866             1  \n",
      "8095867             1  \n",
      "8095868             1  \n"
     ]
    }
   ],
   "source": [
    "# Solving the nan problem \n",
    "print(data.columns)\n",
    "# Check for NaN values in X_train\n",
    "nans = data.isna().sum()\n",
    "# Filter and print columns with NaN values\n",
    "nans_with_values = nans[nans > 0]\n",
    "print(f\"Columns with NaN values in:\\n{nans_with_values}\")\n",
    "print(data.tail())"
   ]
  },
  {
   "cell_type": "code",
   "execution_count": 22,
   "metadata": {},
   "outputs": [
    {
     "name": "stdout",
     "output_type": "stream",
     "text": [
      "Unique values in column 'Ct':\n",
      "['M1' 'M1G' 'N1' 'N1G' 'Missing' 'N2' 'N2G']\n",
      "\n",
      "Unique values in column 'Ft':\n",
      "['PETROL' 'DIESEL' 'PETROL/ELECTRIC' 'NG-BIOMETHANE' 'LPG' 'Missing'\n",
      " 'DIESEL/ELECTRIC' 'E85' 'HYDROGEN' 'ELECTRIC']\n",
      "\n",
      "Unique values in column 'Fm':\n",
      "['M' 'B' 'F' 'H' 'P' 'Missing' 'E']\n",
      "\n",
      "Unique values in column 'IT':\n",
      "['Missing' 'e24' 'e11' 'e13' 'E24' 'E13' 'E19' 'E11' 'E12' 'e19' 'e29'\n",
      " 'e17' 'e34' 'e20' 'e12' 'e27' 'e51' 'e22' 'e21' 'E17' 'E22' 'e91' 'E41'\n",
      " 'E51' 'E27' 'e01' 'e14' 'E20' 'e25' 'e61' 'E14' 'e41' 'E16' 'E36' 'E25'\n",
      " 'e23' 'e42' 'e33' 'E52' 'E53' 'e26' 'E29' 'e16' 'e28' 'e32' 'E37' 'E63'\n",
      " 'E93' 'E92' 'E18' 'E26' 'E61']\n",
      "\n"
     ]
    }
   ],
   "source": [
    "# List of problematic categorical columns\n",
    "columns_category = ['Ct', 'Ft', 'Fm', 'IT']\n",
    "\n",
    "# Loop through each column and print unique values\n",
    "for col in columns_category:\n",
    "    if col in data.columns:\n",
    "        unique_values = data[col].unique()\n",
    "        print(f\"Unique values in column '{col}':\\n{unique_values}\\n\")\n",
    "    else:\n",
    "        print(f\"Column '{col}' does not exist in the DataFrame, skipping...\\n\")"
   ]
  },
  {
   "cell_type": "markdown",
   "metadata": {},
   "source": [
    "# 2. One-hot encode categorical variables"
   ]
  },
  {
   "cell_type": "code",
   "execution_count": 23,
   "metadata": {},
   "outputs": [
    {
     "data": {
      "text/html": [
       "<div>\n",
       "<style scoped>\n",
       "    .dataframe tbody tr th:only-of-type {\n",
       "        vertical-align: middle;\n",
       "    }\n",
       "\n",
       "    .dataframe tbody tr th {\n",
       "        vertical-align: top;\n",
       "    }\n",
       "\n",
       "    .dataframe thead th {\n",
       "        text-align: right;\n",
       "    }\n",
       "</style>\n",
       "<table border=\"1\" class=\"dataframe\">\n",
       "  <thead>\n",
       "    <tr style=\"text-align: right;\">\n",
       "      <th></th>\n",
       "      <th>Ct</th>\n",
       "      <th>m (kg)</th>\n",
       "      <th>Mt</th>\n",
       "      <th>Ewltp (g/km)</th>\n",
       "      <th>W (mm)</th>\n",
       "      <th>At1 (mm)</th>\n",
       "      <th>At2 (mm)</th>\n",
       "      <th>Ft</th>\n",
       "      <th>Fm</th>\n",
       "      <th>ec (cm3)</th>\n",
       "      <th>ep (KW)</th>\n",
       "      <th>z (Wh/km)</th>\n",
       "      <th>IT</th>\n",
       "      <th>Electric range (km)</th>\n",
       "      <th>Non_Electric</th>\n",
       "    </tr>\n",
       "  </thead>\n",
       "  <tbody>\n",
       "    <tr>\n",
       "      <th>8095864</th>\n",
       "      <td>M1</td>\n",
       "      <td>1140.0</td>\n",
       "      <td>1257.0</td>\n",
       "      <td>119.0</td>\n",
       "      <td>2580.0</td>\n",
       "      <td>1531.0</td>\n",
       "      <td>1536.0</td>\n",
       "      <td>PETROL</td>\n",
       "      <td>M</td>\n",
       "      <td>998.0</td>\n",
       "      <td>74.0</td>\n",
       "      <td>0.0</td>\n",
       "      <td>Missing</td>\n",
       "      <td>0.0</td>\n",
       "      <td>1</td>\n",
       "    </tr>\n",
       "    <tr>\n",
       "      <th>8095865</th>\n",
       "      <td>M1</td>\n",
       "      <td>1500.0</td>\n",
       "      <td>1619.0</td>\n",
       "      <td>151.0</td>\n",
       "      <td>2680.0</td>\n",
       "      <td>1615.0</td>\n",
       "      <td>1622.0</td>\n",
       "      <td>PETROL</td>\n",
       "      <td>M</td>\n",
       "      <td>1598.0</td>\n",
       "      <td>110.0</td>\n",
       "      <td>0.0</td>\n",
       "      <td>Missing</td>\n",
       "      <td>0.0</td>\n",
       "      <td>1</td>\n",
       "    </tr>\n",
       "    <tr>\n",
       "      <th>8095866</th>\n",
       "      <td>M1</td>\n",
       "      <td>1730.0</td>\n",
       "      <td>1902.0</td>\n",
       "      <td>164.0</td>\n",
       "      <td>2851.0</td>\n",
       "      <td>1573.0</td>\n",
       "      <td>1587.0</td>\n",
       "      <td>PETROL</td>\n",
       "      <td>M</td>\n",
       "      <td>1998.0</td>\n",
       "      <td>190.0</td>\n",
       "      <td>0.0</td>\n",
       "      <td>e24</td>\n",
       "      <td>0.0</td>\n",
       "      <td>1</td>\n",
       "    </tr>\n",
       "    <tr>\n",
       "      <th>8095867</th>\n",
       "      <td>M1</td>\n",
       "      <td>1456.0</td>\n",
       "      <td>1537.0</td>\n",
       "      <td>133.0</td>\n",
       "      <td>2720.0</td>\n",
       "      <td>1562.0</td>\n",
       "      <td>1584.0</td>\n",
       "      <td>PETROL</td>\n",
       "      <td>H</td>\n",
       "      <td>1332.0</td>\n",
       "      <td>103.0</td>\n",
       "      <td>0.0</td>\n",
       "      <td>Missing</td>\n",
       "      <td>0.0</td>\n",
       "      <td>1</td>\n",
       "    </tr>\n",
       "    <tr>\n",
       "      <th>8095868</th>\n",
       "      <td>M1</td>\n",
       "      <td>1940.0</td>\n",
       "      <td>2126.0</td>\n",
       "      <td>147.0</td>\n",
       "      <td>2975.0</td>\n",
       "      <td>1605.0</td>\n",
       "      <td>1630.0</td>\n",
       "      <td>DIESEL</td>\n",
       "      <td>H</td>\n",
       "      <td>2993.0</td>\n",
       "      <td>210.0</td>\n",
       "      <td>0.0</td>\n",
       "      <td>e24</td>\n",
       "      <td>0.0</td>\n",
       "      <td>1</td>\n",
       "    </tr>\n",
       "  </tbody>\n",
       "</table>\n",
       "</div>"
      ],
      "text/plain": [
       "         Ct  m (kg)      Mt  Ewltp (g/km)  W (mm)  At1 (mm)  At2 (mm)      Ft  \\\n",
       "8095864  M1  1140.0  1257.0         119.0  2580.0    1531.0    1536.0  PETROL   \n",
       "8095865  M1  1500.0  1619.0         151.0  2680.0    1615.0    1622.0  PETROL   \n",
       "8095866  M1  1730.0  1902.0         164.0  2851.0    1573.0    1587.0  PETROL   \n",
       "8095867  M1  1456.0  1537.0         133.0  2720.0    1562.0    1584.0  PETROL   \n",
       "8095868  M1  1940.0  2126.0         147.0  2975.0    1605.0    1630.0  DIESEL   \n",
       "\n",
       "        Fm  ec (cm3)  ep (KW)  z (Wh/km)       IT  Electric range (km)  \\\n",
       "8095864  M     998.0     74.0        0.0  Missing                  0.0   \n",
       "8095865  M    1598.0    110.0        0.0  Missing                  0.0   \n",
       "8095866  M    1998.0    190.0        0.0      e24                  0.0   \n",
       "8095867  H    1332.0    103.0        0.0  Missing                  0.0   \n",
       "8095868  H    2993.0    210.0        0.0      e24                  0.0   \n",
       "\n",
       "         Non_Electric  \n",
       "8095864             1  \n",
       "8095865             1  \n",
       "8095866             1  \n",
       "8095867             1  \n",
       "8095868             1  "
      ]
     },
     "execution_count": 23,
     "metadata": {},
     "output_type": "execute_result"
    }
   ],
   "source": [
    "data.tail()"
   ]
  },
  {
   "cell_type": "code",
   "execution_count": 24,
   "metadata": {},
   "outputs": [
    {
     "name": "stdout",
     "output_type": "stream",
     "text": [
      "['Ct', 'Ft', 'Fm', 'IT']\n"
     ]
    },
    {
     "ename": "KeyboardInterrupt",
     "evalue": "",
     "output_type": "error",
     "traceback": [
      "\u001b[0;31m---------------------------------------------------------------------------\u001b[0m",
      "\u001b[0;31mKeyboardInterrupt\u001b[0m                         Traceback (most recent call last)",
      "Cell \u001b[0;32mIn[24], line 25\u001b[0m\n\u001b[1;32m     22\u001b[0m encoded_df \u001b[38;5;241m=\u001b[39m pd\u001b[38;5;241m.\u001b[39mDataFrame(encoded_features, columns\u001b[38;5;241m=\u001b[39mencoder\u001b[38;5;241m.\u001b[39mget_feature_names_out(existing_columns_to_encode))\n\u001b[1;32m     24\u001b[0m \u001b[38;5;66;03m# Concatenate the new one-hot encoded columns back to the original DataFrame (drop the original columns first)\u001b[39;00m\n\u001b[0;32m---> 25\u001b[0m data_new \u001b[38;5;241m=\u001b[39m \u001b[43mpd\u001b[49m\u001b[38;5;241;43m.\u001b[39;49m\u001b[43mconcat\u001b[49m\u001b[43m(\u001b[49m\u001b[43m[\u001b[49m\u001b[43mdata\u001b[49m\u001b[38;5;241;43m.\u001b[39;49m\u001b[43mdrop\u001b[49m\u001b[43m(\u001b[49m\u001b[43mexisting_columns_to_encode\u001b[49m\u001b[43m,\u001b[49m\u001b[43m \u001b[49m\u001b[43maxis\u001b[49m\u001b[38;5;241;43m=\u001b[39;49m\u001b[38;5;241;43m1\u001b[39;49m\u001b[43m)\u001b[49m\u001b[43m,\u001b[49m\u001b[43m \u001b[49m\u001b[43mencoded_df\u001b[49m\u001b[43m]\u001b[49m\u001b[43m,\u001b[49m\u001b[43m \u001b[49m\u001b[43maxis\u001b[49m\u001b[38;5;241;43m=\u001b[39;49m\u001b[38;5;241;43m1\u001b[39;49m\u001b[43m)\u001b[49m\n\u001b[1;32m     27\u001b[0m \u001b[38;5;66;03m# Display the updated DataFrame\u001b[39;00m\n\u001b[1;32m     28\u001b[0m \u001b[38;5;28mprint\u001b[39m(data_new\u001b[38;5;241m.\u001b[39mhead())\n",
      "File \u001b[0;32m~/opt/anaconda3/envs/Project_DS_CO2/lib/python3.9/site-packages/pandas/util/_decorators.py:311\u001b[0m, in \u001b[0;36mdeprecate_nonkeyword_arguments.<locals>.decorate.<locals>.wrapper\u001b[0;34m(*args, **kwargs)\u001b[0m\n\u001b[1;32m    305\u001b[0m \u001b[38;5;28;01mif\u001b[39;00m \u001b[38;5;28mlen\u001b[39m(args) \u001b[38;5;241m>\u001b[39m num_allow_args:\n\u001b[1;32m    306\u001b[0m     warnings\u001b[38;5;241m.\u001b[39mwarn(\n\u001b[1;32m    307\u001b[0m         msg\u001b[38;5;241m.\u001b[39mformat(arguments\u001b[38;5;241m=\u001b[39marguments),\n\u001b[1;32m    308\u001b[0m         \u001b[38;5;167;01mFutureWarning\u001b[39;00m,\n\u001b[1;32m    309\u001b[0m         stacklevel\u001b[38;5;241m=\u001b[39mstacklevel,\n\u001b[1;32m    310\u001b[0m     )\n\u001b[0;32m--> 311\u001b[0m \u001b[38;5;28;01mreturn\u001b[39;00m \u001b[43mfunc\u001b[49m\u001b[43m(\u001b[49m\u001b[38;5;241;43m*\u001b[39;49m\u001b[43margs\u001b[49m\u001b[43m,\u001b[49m\u001b[43m \u001b[49m\u001b[38;5;241;43m*\u001b[39;49m\u001b[38;5;241;43m*\u001b[39;49m\u001b[43mkwargs\u001b[49m\u001b[43m)\u001b[49m\n",
      "File \u001b[0;32m~/opt/anaconda3/envs/Project_DS_CO2/lib/python3.9/site-packages/pandas/core/reshape/concat.py:360\u001b[0m, in \u001b[0;36mconcat\u001b[0;34m(objs, axis, join, ignore_index, keys, levels, names, verify_integrity, sort, copy)\u001b[0m\n\u001b[1;32m    156\u001b[0m \u001b[38;5;250m\u001b[39m\u001b[38;5;124;03m\"\"\"\u001b[39;00m\n\u001b[1;32m    157\u001b[0m \u001b[38;5;124;03mConcatenate pandas objects along a particular axis with optional set logic\u001b[39;00m\n\u001b[1;32m    158\u001b[0m \u001b[38;5;124;03malong the other axes.\u001b[39;00m\n\u001b[0;32m   (...)\u001b[0m\n\u001b[1;32m    345\u001b[0m \u001b[38;5;124;03mValueError: Indexes have overlapping values: ['a']\u001b[39;00m\n\u001b[1;32m    346\u001b[0m \u001b[38;5;124;03m\"\"\"\u001b[39;00m\n\u001b[1;32m    347\u001b[0m op \u001b[38;5;241m=\u001b[39m _Concatenator(\n\u001b[1;32m    348\u001b[0m     objs,\n\u001b[1;32m    349\u001b[0m     axis\u001b[38;5;241m=\u001b[39maxis,\n\u001b[0;32m   (...)\u001b[0m\n\u001b[1;32m    357\u001b[0m     sort\u001b[38;5;241m=\u001b[39msort,\n\u001b[1;32m    358\u001b[0m )\n\u001b[0;32m--> 360\u001b[0m \u001b[38;5;28;01mreturn\u001b[39;00m \u001b[43mop\u001b[49m\u001b[38;5;241;43m.\u001b[39;49m\u001b[43mget_result\u001b[49m\u001b[43m(\u001b[49m\u001b[43m)\u001b[49m\n",
      "File \u001b[0;32m~/opt/anaconda3/envs/Project_DS_CO2/lib/python3.9/site-packages/pandas/core/reshape/concat.py:595\u001b[0m, in \u001b[0;36m_Concatenator.get_result\u001b[0;34m(self)\u001b[0m\n\u001b[1;32m    591\u001b[0m             indexers[ax] \u001b[38;5;241m=\u001b[39m obj_labels\u001b[38;5;241m.\u001b[39mget_indexer(new_labels)\n\u001b[1;32m    593\u001b[0m     mgrs_indexers\u001b[38;5;241m.\u001b[39mappend((obj\u001b[38;5;241m.\u001b[39m_mgr, indexers))\n\u001b[0;32m--> 595\u001b[0m new_data \u001b[38;5;241m=\u001b[39m \u001b[43mconcatenate_managers\u001b[49m\u001b[43m(\u001b[49m\n\u001b[1;32m    596\u001b[0m \u001b[43m    \u001b[49m\u001b[43mmgrs_indexers\u001b[49m\u001b[43m,\u001b[49m\u001b[43m \u001b[49m\u001b[38;5;28;43mself\u001b[39;49m\u001b[38;5;241;43m.\u001b[39;49m\u001b[43mnew_axes\u001b[49m\u001b[43m,\u001b[49m\u001b[43m \u001b[49m\u001b[43mconcat_axis\u001b[49m\u001b[38;5;241;43m=\u001b[39;49m\u001b[38;5;28;43mself\u001b[39;49m\u001b[38;5;241;43m.\u001b[39;49m\u001b[43mbm_axis\u001b[49m\u001b[43m,\u001b[49m\u001b[43m \u001b[49m\u001b[43mcopy\u001b[49m\u001b[38;5;241;43m=\u001b[39;49m\u001b[38;5;28;43mself\u001b[39;49m\u001b[38;5;241;43m.\u001b[39;49m\u001b[43mcopy\u001b[49m\n\u001b[1;32m    597\u001b[0m \u001b[43m\u001b[49m\u001b[43m)\u001b[49m\n\u001b[1;32m    598\u001b[0m \u001b[38;5;28;01mif\u001b[39;00m \u001b[38;5;129;01mnot\u001b[39;00m \u001b[38;5;28mself\u001b[39m\u001b[38;5;241m.\u001b[39mcopy:\n\u001b[1;32m    599\u001b[0m     new_data\u001b[38;5;241m.\u001b[39m_consolidate_inplace()\n",
      "File \u001b[0;32m~/opt/anaconda3/envs/Project_DS_CO2/lib/python3.9/site-packages/pandas/core/internals/concat.py:242\u001b[0m, in \u001b[0;36mconcatenate_managers\u001b[0;34m(mgrs_indexers, axes, concat_axis, copy)\u001b[0m\n\u001b[1;32m    240\u001b[0m     fastpath \u001b[38;5;241m=\u001b[39m blk\u001b[38;5;241m.\u001b[39mvalues\u001b[38;5;241m.\u001b[39mdtype \u001b[38;5;241m==\u001b[39m values\u001b[38;5;241m.\u001b[39mdtype\n\u001b[1;32m    241\u001b[0m \u001b[38;5;28;01melse\u001b[39;00m:\n\u001b[0;32m--> 242\u001b[0m     values \u001b[38;5;241m=\u001b[39m \u001b[43m_concatenate_join_units\u001b[49m\u001b[43m(\u001b[49m\u001b[43mjoin_units\u001b[49m\u001b[43m,\u001b[49m\u001b[43m \u001b[49m\u001b[43mconcat_axis\u001b[49m\u001b[43m,\u001b[49m\u001b[43m \u001b[49m\u001b[43mcopy\u001b[49m\u001b[38;5;241;43m=\u001b[39;49m\u001b[43mcopy\u001b[49m\u001b[43m)\u001b[49m\n\u001b[1;32m    243\u001b[0m     fastpath \u001b[38;5;241m=\u001b[39m \u001b[38;5;28;01mFalse\u001b[39;00m\n\u001b[1;32m    245\u001b[0m \u001b[38;5;28;01mif\u001b[39;00m fastpath:\n",
      "File \u001b[0;32m~/opt/anaconda3/envs/Project_DS_CO2/lib/python3.9/site-packages/pandas/core/internals/concat.py:563\u001b[0m, in \u001b[0;36m_concatenate_join_units\u001b[0;34m(join_units, concat_axis, copy)\u001b[0m\n\u001b[1;32m    559\u001b[0m \u001b[38;5;28;01mif\u001b[39;00m \u001b[38;5;28misinstance\u001b[39m(concat_values, np\u001b[38;5;241m.\u001b[39mndarray):\n\u001b[1;32m    560\u001b[0m     \u001b[38;5;66;03m# non-reindexed (=not yet copied) arrays are made into a view\u001b[39;00m\n\u001b[1;32m    561\u001b[0m     \u001b[38;5;66;03m# in JoinUnit.get_reindexed_values\u001b[39;00m\n\u001b[1;32m    562\u001b[0m     \u001b[38;5;28;01mif\u001b[39;00m concat_values\u001b[38;5;241m.\u001b[39mbase \u001b[38;5;129;01mis\u001b[39;00m \u001b[38;5;129;01mnot\u001b[39;00m \u001b[38;5;28;01mNone\u001b[39;00m:\n\u001b[0;32m--> 563\u001b[0m         concat_values \u001b[38;5;241m=\u001b[39m \u001b[43mconcat_values\u001b[49m\u001b[38;5;241;43m.\u001b[39;49m\u001b[43mcopy\u001b[49m\u001b[43m(\u001b[49m\u001b[43m)\u001b[49m\n\u001b[1;32m    564\u001b[0m \u001b[38;5;28;01melse\u001b[39;00m:\n\u001b[1;32m    565\u001b[0m     concat_values \u001b[38;5;241m=\u001b[39m concat_values\u001b[38;5;241m.\u001b[39mcopy()\n",
      "\u001b[0;31mKeyboardInterrupt\u001b[0m: "
     ]
    }
   ],
   "source": [
    "# List of columns to be one-hot encoded\n",
    "columns_to_encode = ['Ct', 'Ft', 'Fm', 'IT']\n",
    "\n",
    "# Filter only the columns that exist in the DataFrame\n",
    "existing_columns_to_encode = [col for col in columns_to_encode if col in data.columns]\n",
    "print(existing_columns_to_encode)\n",
    "\n",
    "if existing_columns_to_encode:\n",
    "    # Check for NaNs in the columns to encode\n",
    "    for col in existing_columns_to_encode:\n",
    "        if data[col].isna().any():\n",
    "            # Fill NaNs with a placeholder value, e.g., 'Missing'\n",
    "            data[col].fillna('Missing', inplace=True)\n",
    "\n",
    "    # Initialize the OneHotEncoder\n",
    "    encoder = OneHotEncoder(drop='first', sparse_output=False)  # drop='first' to avoid multicollinearity\n",
    "\n",
    "    # Fit and transform the existing columns\n",
    "    encoded_features = encoder.fit_transform(data[existing_columns_to_encode])\n",
    "\n",
    "    # Convert the encoded features into a DataFrame with meaningful column names\n",
    "    encoded_df = pd.DataFrame(encoded_features, columns=encoder.get_feature_names_out(existing_columns_to_encode))\n",
    "\n",
    "    # Concatenate the new one-hot encoded columns back to the original DataFrame (drop the original columns first)\n",
    "    data_new = pd.concat([data.drop(existing_columns_to_encode, axis=1), encoded_df], axis=1)\n",
    "\n",
    "    # Display the updated DataFrame\n",
    "    print(data_new.head())\n",
    "    print(data_new.tail())\n",
    "else:\n",
    "    print(\"No columns to encode were found in the DataFrame.\")\n",
    "\n",
    "data = data_new\n"
   ]
  },
  {
   "cell_type": "code",
   "execution_count": 132,
   "metadata": {},
   "outputs": [
    {
     "name": "stdout",
     "output_type": "stream",
     "text": [
      "(80959, 39)\n",
      "Empty DataFrame\n",
      "Columns: [m (kg), Mt, Ewltp (g/km), W (mm), At1 (mm), At2 (mm), ec (cm3), ep (KW), z (Wh/km), Electric range (km), Non_Electric, Ct_M1G, Ct_N1, Ct_N1G, Ft_DIESEL/ELECTRIC, Ft_E85, Ft_LPG, Ft_Missing, Ft_NG-BIOMETHANE, Ft_PETROL, Ft_PETROL/ELECTRIC, Fm_F, Fm_H, Fm_M, Fm_P, IT_E13, IT_E17, IT_E19, IT_E24, IT_E37, IT_Missing, IT_e11, IT_e13, IT_e17, IT_e19, IT_e20, IT_e24, IT_e29, IT_e51]\n",
      "Index: []\n",
      "\n",
      "[0 rows x 39 columns]\n"
     ]
    }
   ],
   "source": [
    "print(data.shape)\n",
    "# Print all rows where there are NaN values\n",
    "print(data[data.isna().any(axis=1)])\n",
    "data = data_new.dropna()"
   ]
  },
  {
   "cell_type": "markdown",
   "metadata": {},
   "source": [
    "# 2. D Saving the data after all preparations for the modelization "
   ]
  },
  {
   "cell_type": "code",
   "execution_count": 133,
   "metadata": {},
   "outputs": [
    {
     "name": "stdout",
     "output_type": "stream",
     "text": [
      "Shape of data: (80959, 39)\n",
      "Data in the data_path.\n"
     ]
    }
   ],
   "source": [
    "\n",
    "# Saving the data \n",
    "data.to_csv(os.path.join(data_path, 'EU_Tillmann__ModelData_Big.csv'), index=False)\n",
    "\n",
    "print(\"Shape of data:\", data.shape)\n",
    "print(\"Data in the data_path.\")\n"
   ]
  },
  {
   "cell_type": "markdown",
   "metadata": {},
   "source": [
    "# 3 Check for correlation"
   ]
  },
  {
   "cell_type": "code",
   "execution_count": 134,
   "metadata": {},
   "outputs": [
    {
     "data": {
      "text/plain": [
       "'\\n\\n# Get unique values in \\'IT\\' column\\nunique_IT_values = data[\\'IT\\'].unique()\\n\\n# Create a mapping from categorical values to numerical values\\nIT_mapping = {category: idx for idx, category in enumerate(unique_IT_values)}\\n\\n# Print the mapping (for reference)\\nprint(\"Mapping of IT categories to numerical values:\")\\nprint(IT_mapping)\\n\\n# Apply the mapping to the \\'IT\\' column\\ndata[\\'IT_mapped\\'] = data[\\'IT\\'].map(IT_mapping)\\n\\n# Now \\'IT_mapped\\' will contain the numerical representation of the \\'IT\\' column\\nprint(data[[\\'IT\\', \\'IT_mapped\\']].head())\\n\\n# Later, to reverse the mapping, you can do:\\nreverse_IT_mapping = {v: k for k, v in IT_mapping.items()}\\n\\n\\n'"
      ]
     },
     "execution_count": 134,
     "metadata": {},
     "output_type": "execute_result"
    }
   ],
   "source": [
    "# Assuming 'data' is your DataFrame\n",
    "# Generate a correlation matrix\n",
    "# correlation_matrix = data.corr()"
   ]
  },
  {
   "cell_type": "code",
   "execution_count": null,
   "metadata": {},
   "outputs": [],
   "source": [
    "# Set up the matplotlib figure\n",
    "# plt.figure(figsize=(12, 8))\n",
    "\n",
    "# Draw the heatmap\n",
    "# sns.heatmap(correlation_matrix, annot=True, fmt=\".2f\", cmap='coolwarm', square=True, cbar_kws={\"shrink\": .8})\n",
    "\n",
    "# Set the title\n",
    "# plt.title('Correlation Heatmap', fontsize=16)\n",
    "\n",
    "# Show the plot\n",
    "# plt.show()"
   ]
  },
  {
   "cell_type": "markdown",
   "metadata": {},
   "source": [
    "\n",
    "# 4. Split the data into features and target\n",
    "\n"
   ]
  },
  {
   "cell_type": "code",
   "execution_count": 135,
   "metadata": {},
   "outputs": [
    {
     "name": "stdout",
     "output_type": "stream",
     "text": [
      "Columns with NaN values in X_train:\n",
      "Series([], dtype: int64)\n",
      "(80959, 38)\n"
     ]
    }
   ],
   "source": [
    "# \n",
    "X = data.drop('Ewltp (g/km)', axis=1)  # Features\n",
    "y = data['Ewltp (g/km)']               # Target variable\n",
    "\n",
    "# Check for NaN values in X_train\n",
    "nans = X.isna().sum()\n",
    "\n",
    "# Filter and print columns with NaN values\n",
    "nans_with_values = nans[nans > 0]\n",
    "print(f\"Columns with NaN values in X_train:\\n{nans_with_values}\")\n",
    "\n",
    "print(X.shape)"
   ]
  },
  {
   "cell_type": "code",
   "execution_count": 136,
   "metadata": {},
   "outputs": [],
   "source": [
    "\n",
    "# 4. Split the data into training and testing sets\n",
    "X_train, X_test, y_train, y_test = train_test_split(X, y, test_size=0.2, random_state=42)\n",
    "\n"
   ]
  },
  {
   "cell_type": "code",
   "execution_count": 137,
   "metadata": {},
   "outputs": [],
   "source": [
    "\n",
    "# 5. Normalize/Standardize features (scaling)\n",
    "scaler = StandardScaler()\n",
    "X_train_scaled = scaler.fit_transform(X_train)  # Standardize features by removing the mean and scaling to unit variance\n",
    "X_test_scaled = scaler.fit_transform(X_test)\n",
    "\n"
   ]
  },
  {
   "cell_type": "code",
   "execution_count": 138,
   "metadata": {},
   "outputs": [
    {
     "data": {
      "text/html": [
       "<style>#sk-container-id-2 {\n",
       "  /* Definition of color scheme common for light and dark mode */\n",
       "  --sklearn-color-text: black;\n",
       "  --sklearn-color-line: gray;\n",
       "  /* Definition of color scheme for unfitted estimators */\n",
       "  --sklearn-color-unfitted-level-0: #fff5e6;\n",
       "  --sklearn-color-unfitted-level-1: #f6e4d2;\n",
       "  --sklearn-color-unfitted-level-2: #ffe0b3;\n",
       "  --sklearn-color-unfitted-level-3: chocolate;\n",
       "  /* Definition of color scheme for fitted estimators */\n",
       "  --sklearn-color-fitted-level-0: #f0f8ff;\n",
       "  --sklearn-color-fitted-level-1: #d4ebff;\n",
       "  --sklearn-color-fitted-level-2: #b3dbfd;\n",
       "  --sklearn-color-fitted-level-3: cornflowerblue;\n",
       "\n",
       "  /* Specific color for light theme */\n",
       "  --sklearn-color-text-on-default-background: var(--sg-text-color, var(--theme-code-foreground, var(--jp-content-font-color1, black)));\n",
       "  --sklearn-color-background: var(--sg-background-color, var(--theme-background, var(--jp-layout-color0, white)));\n",
       "  --sklearn-color-border-box: var(--sg-text-color, var(--theme-code-foreground, var(--jp-content-font-color1, black)));\n",
       "  --sklearn-color-icon: #696969;\n",
       "\n",
       "  @media (prefers-color-scheme: dark) {\n",
       "    /* Redefinition of color scheme for dark theme */\n",
       "    --sklearn-color-text-on-default-background: var(--sg-text-color, var(--theme-code-foreground, var(--jp-content-font-color1, white)));\n",
       "    --sklearn-color-background: var(--sg-background-color, var(--theme-background, var(--jp-layout-color0, #111)));\n",
       "    --sklearn-color-border-box: var(--sg-text-color, var(--theme-code-foreground, var(--jp-content-font-color1, white)));\n",
       "    --sklearn-color-icon: #878787;\n",
       "  }\n",
       "}\n",
       "\n",
       "#sk-container-id-2 {\n",
       "  color: var(--sklearn-color-text);\n",
       "}\n",
       "\n",
       "#sk-container-id-2 pre {\n",
       "  padding: 0;\n",
       "}\n",
       "\n",
       "#sk-container-id-2 input.sk-hidden--visually {\n",
       "  border: 0;\n",
       "  clip: rect(1px 1px 1px 1px);\n",
       "  clip: rect(1px, 1px, 1px, 1px);\n",
       "  height: 1px;\n",
       "  margin: -1px;\n",
       "  overflow: hidden;\n",
       "  padding: 0;\n",
       "  position: absolute;\n",
       "  width: 1px;\n",
       "}\n",
       "\n",
       "#sk-container-id-2 div.sk-dashed-wrapped {\n",
       "  border: 1px dashed var(--sklearn-color-line);\n",
       "  margin: 0 0.4em 0.5em 0.4em;\n",
       "  box-sizing: border-box;\n",
       "  padding-bottom: 0.4em;\n",
       "  background-color: var(--sklearn-color-background);\n",
       "}\n",
       "\n",
       "#sk-container-id-2 div.sk-container {\n",
       "  /* jupyter's `normalize.less` sets `[hidden] { display: none; }`\n",
       "     but bootstrap.min.css set `[hidden] { display: none !important; }`\n",
       "     so we also need the `!important` here to be able to override the\n",
       "     default hidden behavior on the sphinx rendered scikit-learn.org.\n",
       "     See: https://github.com/scikit-learn/scikit-learn/issues/21755 */\n",
       "  display: inline-block !important;\n",
       "  position: relative;\n",
       "}\n",
       "\n",
       "#sk-container-id-2 div.sk-text-repr-fallback {\n",
       "  display: none;\n",
       "}\n",
       "\n",
       "div.sk-parallel-item,\n",
       "div.sk-serial,\n",
       "div.sk-item {\n",
       "  /* draw centered vertical line to link estimators */\n",
       "  background-image: linear-gradient(var(--sklearn-color-text-on-default-background), var(--sklearn-color-text-on-default-background));\n",
       "  background-size: 2px 100%;\n",
       "  background-repeat: no-repeat;\n",
       "  background-position: center center;\n",
       "}\n",
       "\n",
       "/* Parallel-specific style estimator block */\n",
       "\n",
       "#sk-container-id-2 div.sk-parallel-item::after {\n",
       "  content: \"\";\n",
       "  width: 100%;\n",
       "  border-bottom: 2px solid var(--sklearn-color-text-on-default-background);\n",
       "  flex-grow: 1;\n",
       "}\n",
       "\n",
       "#sk-container-id-2 div.sk-parallel {\n",
       "  display: flex;\n",
       "  align-items: stretch;\n",
       "  justify-content: center;\n",
       "  background-color: var(--sklearn-color-background);\n",
       "  position: relative;\n",
       "}\n",
       "\n",
       "#sk-container-id-2 div.sk-parallel-item {\n",
       "  display: flex;\n",
       "  flex-direction: column;\n",
       "}\n",
       "\n",
       "#sk-container-id-2 div.sk-parallel-item:first-child::after {\n",
       "  align-self: flex-end;\n",
       "  width: 50%;\n",
       "}\n",
       "\n",
       "#sk-container-id-2 div.sk-parallel-item:last-child::after {\n",
       "  align-self: flex-start;\n",
       "  width: 50%;\n",
       "}\n",
       "\n",
       "#sk-container-id-2 div.sk-parallel-item:only-child::after {\n",
       "  width: 0;\n",
       "}\n",
       "\n",
       "/* Serial-specific style estimator block */\n",
       "\n",
       "#sk-container-id-2 div.sk-serial {\n",
       "  display: flex;\n",
       "  flex-direction: column;\n",
       "  align-items: center;\n",
       "  background-color: var(--sklearn-color-background);\n",
       "  padding-right: 1em;\n",
       "  padding-left: 1em;\n",
       "}\n",
       "\n",
       "\n",
       "/* Toggleable style: style used for estimator/Pipeline/ColumnTransformer box that is\n",
       "clickable and can be expanded/collapsed.\n",
       "- Pipeline and ColumnTransformer use this feature and define the default style\n",
       "- Estimators will overwrite some part of the style using the `sk-estimator` class\n",
       "*/\n",
       "\n",
       "/* Pipeline and ColumnTransformer style (default) */\n",
       "\n",
       "#sk-container-id-2 div.sk-toggleable {\n",
       "  /* Default theme specific background. It is overwritten whether we have a\n",
       "  specific estimator or a Pipeline/ColumnTransformer */\n",
       "  background-color: var(--sklearn-color-background);\n",
       "}\n",
       "\n",
       "/* Toggleable label */\n",
       "#sk-container-id-2 label.sk-toggleable__label {\n",
       "  cursor: pointer;\n",
       "  display: block;\n",
       "  width: 100%;\n",
       "  margin-bottom: 0;\n",
       "  padding: 0.5em;\n",
       "  box-sizing: border-box;\n",
       "  text-align: center;\n",
       "}\n",
       "\n",
       "#sk-container-id-2 label.sk-toggleable__label-arrow:before {\n",
       "  /* Arrow on the left of the label */\n",
       "  content: \"▸\";\n",
       "  float: left;\n",
       "  margin-right: 0.25em;\n",
       "  color: var(--sklearn-color-icon);\n",
       "}\n",
       "\n",
       "#sk-container-id-2 label.sk-toggleable__label-arrow:hover:before {\n",
       "  color: var(--sklearn-color-text);\n",
       "}\n",
       "\n",
       "/* Toggleable content - dropdown */\n",
       "\n",
       "#sk-container-id-2 div.sk-toggleable__content {\n",
       "  max-height: 0;\n",
       "  max-width: 0;\n",
       "  overflow: hidden;\n",
       "  text-align: left;\n",
       "  /* unfitted */\n",
       "  background-color: var(--sklearn-color-unfitted-level-0);\n",
       "}\n",
       "\n",
       "#sk-container-id-2 div.sk-toggleable__content.fitted {\n",
       "  /* fitted */\n",
       "  background-color: var(--sklearn-color-fitted-level-0);\n",
       "}\n",
       "\n",
       "#sk-container-id-2 div.sk-toggleable__content pre {\n",
       "  margin: 0.2em;\n",
       "  border-radius: 0.25em;\n",
       "  color: var(--sklearn-color-text);\n",
       "  /* unfitted */\n",
       "  background-color: var(--sklearn-color-unfitted-level-0);\n",
       "}\n",
       "\n",
       "#sk-container-id-2 div.sk-toggleable__content.fitted pre {\n",
       "  /* unfitted */\n",
       "  background-color: var(--sklearn-color-fitted-level-0);\n",
       "}\n",
       "\n",
       "#sk-container-id-2 input.sk-toggleable__control:checked~div.sk-toggleable__content {\n",
       "  /* Expand drop-down */\n",
       "  max-height: 200px;\n",
       "  max-width: 100%;\n",
       "  overflow: auto;\n",
       "}\n",
       "\n",
       "#sk-container-id-2 input.sk-toggleable__control:checked~label.sk-toggleable__label-arrow:before {\n",
       "  content: \"▾\";\n",
       "}\n",
       "\n",
       "/* Pipeline/ColumnTransformer-specific style */\n",
       "\n",
       "#sk-container-id-2 div.sk-label input.sk-toggleable__control:checked~label.sk-toggleable__label {\n",
       "  color: var(--sklearn-color-text);\n",
       "  background-color: var(--sklearn-color-unfitted-level-2);\n",
       "}\n",
       "\n",
       "#sk-container-id-2 div.sk-label.fitted input.sk-toggleable__control:checked~label.sk-toggleable__label {\n",
       "  background-color: var(--sklearn-color-fitted-level-2);\n",
       "}\n",
       "\n",
       "/* Estimator-specific style */\n",
       "\n",
       "/* Colorize estimator box */\n",
       "#sk-container-id-2 div.sk-estimator input.sk-toggleable__control:checked~label.sk-toggleable__label {\n",
       "  /* unfitted */\n",
       "  background-color: var(--sklearn-color-unfitted-level-2);\n",
       "}\n",
       "\n",
       "#sk-container-id-2 div.sk-estimator.fitted input.sk-toggleable__control:checked~label.sk-toggleable__label {\n",
       "  /* fitted */\n",
       "  background-color: var(--sklearn-color-fitted-level-2);\n",
       "}\n",
       "\n",
       "#sk-container-id-2 div.sk-label label.sk-toggleable__label,\n",
       "#sk-container-id-2 div.sk-label label {\n",
       "  /* The background is the default theme color */\n",
       "  color: var(--sklearn-color-text-on-default-background);\n",
       "}\n",
       "\n",
       "/* On hover, darken the color of the background */\n",
       "#sk-container-id-2 div.sk-label:hover label.sk-toggleable__label {\n",
       "  color: var(--sklearn-color-text);\n",
       "  background-color: var(--sklearn-color-unfitted-level-2);\n",
       "}\n",
       "\n",
       "/* Label box, darken color on hover, fitted */\n",
       "#sk-container-id-2 div.sk-label.fitted:hover label.sk-toggleable__label.fitted {\n",
       "  color: var(--sklearn-color-text);\n",
       "  background-color: var(--sklearn-color-fitted-level-2);\n",
       "}\n",
       "\n",
       "/* Estimator label */\n",
       "\n",
       "#sk-container-id-2 div.sk-label label {\n",
       "  font-family: monospace;\n",
       "  font-weight: bold;\n",
       "  display: inline-block;\n",
       "  line-height: 1.2em;\n",
       "}\n",
       "\n",
       "#sk-container-id-2 div.sk-label-container {\n",
       "  text-align: center;\n",
       "}\n",
       "\n",
       "/* Estimator-specific */\n",
       "#sk-container-id-2 div.sk-estimator {\n",
       "  font-family: monospace;\n",
       "  border: 1px dotted var(--sklearn-color-border-box);\n",
       "  border-radius: 0.25em;\n",
       "  box-sizing: border-box;\n",
       "  margin-bottom: 0.5em;\n",
       "  /* unfitted */\n",
       "  background-color: var(--sklearn-color-unfitted-level-0);\n",
       "}\n",
       "\n",
       "#sk-container-id-2 div.sk-estimator.fitted {\n",
       "  /* fitted */\n",
       "  background-color: var(--sklearn-color-fitted-level-0);\n",
       "}\n",
       "\n",
       "/* on hover */\n",
       "#sk-container-id-2 div.sk-estimator:hover {\n",
       "  /* unfitted */\n",
       "  background-color: var(--sklearn-color-unfitted-level-2);\n",
       "}\n",
       "\n",
       "#sk-container-id-2 div.sk-estimator.fitted:hover {\n",
       "  /* fitted */\n",
       "  background-color: var(--sklearn-color-fitted-level-2);\n",
       "}\n",
       "\n",
       "/* Specification for estimator info (e.g. \"i\" and \"?\") */\n",
       "\n",
       "/* Common style for \"i\" and \"?\" */\n",
       "\n",
       ".sk-estimator-doc-link,\n",
       "a:link.sk-estimator-doc-link,\n",
       "a:visited.sk-estimator-doc-link {\n",
       "  float: right;\n",
       "  font-size: smaller;\n",
       "  line-height: 1em;\n",
       "  font-family: monospace;\n",
       "  background-color: var(--sklearn-color-background);\n",
       "  border-radius: 1em;\n",
       "  height: 1em;\n",
       "  width: 1em;\n",
       "  text-decoration: none !important;\n",
       "  margin-left: 1ex;\n",
       "  /* unfitted */\n",
       "  border: var(--sklearn-color-unfitted-level-1) 1pt solid;\n",
       "  color: var(--sklearn-color-unfitted-level-1);\n",
       "}\n",
       "\n",
       ".sk-estimator-doc-link.fitted,\n",
       "a:link.sk-estimator-doc-link.fitted,\n",
       "a:visited.sk-estimator-doc-link.fitted {\n",
       "  /* fitted */\n",
       "  border: var(--sklearn-color-fitted-level-1) 1pt solid;\n",
       "  color: var(--sklearn-color-fitted-level-1);\n",
       "}\n",
       "\n",
       "/* On hover */\n",
       "div.sk-estimator:hover .sk-estimator-doc-link:hover,\n",
       ".sk-estimator-doc-link:hover,\n",
       "div.sk-label-container:hover .sk-estimator-doc-link:hover,\n",
       ".sk-estimator-doc-link:hover {\n",
       "  /* unfitted */\n",
       "  background-color: var(--sklearn-color-unfitted-level-3);\n",
       "  color: var(--sklearn-color-background);\n",
       "  text-decoration: none;\n",
       "}\n",
       "\n",
       "div.sk-estimator.fitted:hover .sk-estimator-doc-link.fitted:hover,\n",
       ".sk-estimator-doc-link.fitted:hover,\n",
       "div.sk-label-container:hover .sk-estimator-doc-link.fitted:hover,\n",
       ".sk-estimator-doc-link.fitted:hover {\n",
       "  /* fitted */\n",
       "  background-color: var(--sklearn-color-fitted-level-3);\n",
       "  color: var(--sklearn-color-background);\n",
       "  text-decoration: none;\n",
       "}\n",
       "\n",
       "/* Span, style for the box shown on hovering the info icon */\n",
       ".sk-estimator-doc-link span {\n",
       "  display: none;\n",
       "  z-index: 9999;\n",
       "  position: relative;\n",
       "  font-weight: normal;\n",
       "  right: .2ex;\n",
       "  padding: .5ex;\n",
       "  margin: .5ex;\n",
       "  width: min-content;\n",
       "  min-width: 20ex;\n",
       "  max-width: 50ex;\n",
       "  color: var(--sklearn-color-text);\n",
       "  box-shadow: 2pt 2pt 4pt #999;\n",
       "  /* unfitted */\n",
       "  background: var(--sklearn-color-unfitted-level-0);\n",
       "  border: .5pt solid var(--sklearn-color-unfitted-level-3);\n",
       "}\n",
       "\n",
       ".sk-estimator-doc-link.fitted span {\n",
       "  /* fitted */\n",
       "  background: var(--sklearn-color-fitted-level-0);\n",
       "  border: var(--sklearn-color-fitted-level-3);\n",
       "}\n",
       "\n",
       ".sk-estimator-doc-link:hover span {\n",
       "  display: block;\n",
       "}\n",
       "\n",
       "/* \"?\"-specific style due to the `<a>` HTML tag */\n",
       "\n",
       "#sk-container-id-2 a.estimator_doc_link {\n",
       "  float: right;\n",
       "  font-size: 1rem;\n",
       "  line-height: 1em;\n",
       "  font-family: monospace;\n",
       "  background-color: var(--sklearn-color-background);\n",
       "  border-radius: 1rem;\n",
       "  height: 1rem;\n",
       "  width: 1rem;\n",
       "  text-decoration: none;\n",
       "  /* unfitted */\n",
       "  color: var(--sklearn-color-unfitted-level-1);\n",
       "  border: var(--sklearn-color-unfitted-level-1) 1pt solid;\n",
       "}\n",
       "\n",
       "#sk-container-id-2 a.estimator_doc_link.fitted {\n",
       "  /* fitted */\n",
       "  border: var(--sklearn-color-fitted-level-1) 1pt solid;\n",
       "  color: var(--sklearn-color-fitted-level-1);\n",
       "}\n",
       "\n",
       "/* On hover */\n",
       "#sk-container-id-2 a.estimator_doc_link:hover {\n",
       "  /* unfitted */\n",
       "  background-color: var(--sklearn-color-unfitted-level-3);\n",
       "  color: var(--sklearn-color-background);\n",
       "  text-decoration: none;\n",
       "}\n",
       "\n",
       "#sk-container-id-2 a.estimator_doc_link.fitted:hover {\n",
       "  /* fitted */\n",
       "  background-color: var(--sklearn-color-fitted-level-3);\n",
       "}\n",
       "</style><div id=\"sk-container-id-2\" class=\"sk-top-container\"><div class=\"sk-text-repr-fallback\"><pre>LinearRegression()</pre><b>In a Jupyter environment, please rerun this cell to show the HTML representation or trust the notebook. <br />On GitHub, the HTML representation is unable to render, please try loading this page with nbviewer.org.</b></div><div class=\"sk-container\" hidden><div class=\"sk-item\"><div class=\"sk-estimator fitted sk-toggleable\"><input class=\"sk-toggleable__control sk-hidden--visually\" id=\"sk-estimator-id-2\" type=\"checkbox\" checked><label for=\"sk-estimator-id-2\" class=\"sk-toggleable__label fitted sk-toggleable__label-arrow fitted\">&nbsp;&nbsp;LinearRegression<a class=\"sk-estimator-doc-link fitted\" rel=\"noreferrer\" target=\"_blank\" href=\"https://scikit-learn.org/1.5/modules/generated/sklearn.linear_model.LinearRegression.html\">?<span>Documentation for LinearRegression</span></a><span class=\"sk-estimator-doc-link fitted\">i<span>Fitted</span></span></label><div class=\"sk-toggleable__content fitted\"><pre>LinearRegression()</pre></div> </div></div></div></div>"
      ],
      "text/plain": [
       "LinearRegression()"
      ]
     },
     "execution_count": 138,
     "metadata": {},
     "output_type": "execute_result"
    }
   ],
   "source": [
    "\n",
    "# 6. Train a regression model (e.g., Linear Regression)\n",
    "model = LinearRegression()\n",
    "model.fit(X_train_scaled, y_train)\n"
   ]
  },
  {
   "cell_type": "code",
   "execution_count": 139,
   "metadata": {},
   "outputs": [],
   "source": [
    "\n",
    "# 7. Make predictions on the test set\n",
    "y_pred = model.predict(X_test_scaled)\n"
   ]
  },
  {
   "cell_type": "code",
   "execution_count": 140,
   "metadata": {},
   "outputs": [
    {
     "name": "stdout",
     "output_type": "stream",
     "text": [
      "Training score: 0.8631\n",
      "Test score: 0.8569\n"
     ]
    }
   ],
   "source": [
    "# Calculate and print the score\n",
    "train_score = model.score(X_train_scaled, y_train)\n",
    "test_score = model.score(X_test_scaled, y_test)\n",
    "\n",
    "print(f\"Training score: {train_score:.4f}\")\n",
    "print(f\"Test score: {test_score:.4f}\")"
   ]
  },
  {
   "cell_type": "code",
   "execution_count": 141,
   "metadata": {},
   "outputs": [
    {
     "name": "stdout",
     "output_type": "stream",
     "text": [
      "Mean Squared Error: 298.94768518628024\n"
     ]
    }
   ],
   "source": [
    "\n",
    "# 8. Evaluate the model performance (using Mean Squared Error in this case)\n",
    "mse = mean_squared_error(y_test, y_pred)\n",
    "print(f\"Mean Squared Error: {mse}\")"
   ]
  },
  {
   "cell_type": "markdown",
   "metadata": {},
   "source": [
    "# 5 Documentation of the results: \n",
    "+ Small df: \n",
    "++ Training score: 0.8631\n",
    "++ Test score: 0.8569\n",
    "++ Mean Squared Error: 298.94768518628024"
   ]
  },
  {
   "cell_type": "code",
   "execution_count": 143,
   "metadata": {},
   "outputs": [
    {
     "data": {
      "image/png": "[encoded data removed]",
      "text/plain": [
       "<Figure size 1200x600 with 2 Axes>"
      ]
     },
     "metadata": {},
     "output_type": "display_data"
    }
   ],
   "source": [
    "\n",
    "# Calculate residuals\n",
    "residuals = y_test - y_pred\n",
    "\n",
    "# Create a figure\n",
    "plt.figure(figsize=(12, 6))\n",
    "\n",
    "# Scatter plot of residuals vs predicted values\n",
    "plt.subplot(1, 2, 1)\n",
    "plt.scatter(y_pred, residuals, alpha=0.7)\n",
    "plt.axhline(y=0, color='r', linestyle='--')  # Add a horizontal line at y=0\n",
    "plt.title('Residuals vs Predicted Values')\n",
    "plt.xlabel('Predicted Values')\n",
    "plt.ylabel('Residuals')\n",
    "\n",
    "# Histogram of residuals\n",
    "plt.subplot(1, 2, 2)\n",
    "sns.histplot(residuals, bins=30, kde=True)  # Kernel Density Estimate for smoother curve\n",
    "plt.title('Histogram of Residuals')\n",
    "plt.xlabel('Residuals')\n",
    "\n",
    "# Show plots\n",
    "plt.tight_layout()\n",
    "plt.show()"
   ]
  },
  {
   "cell_type": "code",
   "execution_count": 144,
   "metadata": {},
   "outputs": [],
   "source": [
    "# I have to get rid of the outliers, there should be a quantile transformation before head "
   ]
  },
  {
   "cell_type": "code",
   "execution_count": null,
   "metadata": {},
   "outputs": [],
   "source": []
  },
  {
   "cell_type": "code",
   "execution_count": null,
   "metadata": {},
   "outputs": [],
   "source": []
  },
  {
   "cell_type": "code",
   "execution_count": null,
   "metadata": {},
   "outputs": [],
   "source": []
  },
  {
   "cell_type": "code",
   "execution_count": 145,
   "metadata": {},
   "outputs": [],
   "source": [
    "a = 2 \n",
    "b = 3 \n"
   ]
  },
  {
   "cell_type": "code",
   "execution_count": 146,
   "metadata": {},
   "outputs": [
    {
     "name": "stdout",
     "output_type": "stream",
     "text": [
      "2\n",
      "3\n"
     ]
    }
   ],
   "source": [
    "print(a)\n",
    "print(b)"
   ]
  },
  {
   "cell_type": "code",
   "execution_count": 147,
   "metadata": {},
   "outputs": [],
   "source": [
    "c = b"
   ]
  },
  {
   "cell_type": "code",
   "execution_count": 148,
   "metadata": {},
   "outputs": [
    {
     "name": "stdout",
     "output_type": "stream",
     "text": [
      "3\n"
     ]
    }
   ],
   "source": [
    "print(c)"
   ]
  }
 ],
 "metadata": {
  "kernelspec": {
   "display_name": "Project_DS_CO2",
   "language": "python",
   "name": "python3"
  },
  "language_info": {
   "codemirror_mode": {
    "name": "ipython",
    "version": 3
   },
   "file_extension": ".py",
   "mimetype": "text/x-python",
   "name": "python",
   "nbconvert_exporter": "python",
   "pygments_lexer": "ipython3",
   "version": "3.9.19"
  }
 },
 "nbformat": 4,
 "nbformat_minor": 2
}
