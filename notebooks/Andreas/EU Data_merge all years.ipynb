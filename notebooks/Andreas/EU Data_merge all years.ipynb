{
 "cells": [
  {
   "cell_type": "markdown",
   "metadata": {},
   "source": [
    "# Import and I/O"
   ]
  },
  {
   "cell_type": "code",
   "execution_count": 1,
   "metadata": {},
   "outputs": [
    {
     "name": "stdout",
     "output_type": "stream",
     "text": [
      "Current working directory:  c:\\Users\\onepl\\Desktop\\Finanzen Behörden etc - Copy\\Bewerbung\\Fortbildungen\\DS Bootcamp\\Project Co2 git\\aug24_bds_int---co2\\notebooks\\Andreas\n"
     ]
    }
   ],
   "source": [
    "import numpy as np\n",
    "import pandas as pd\n",
    "import matplotlib.pyplot as plt\n",
    "import seaborn as sn\n",
    "\n",
    "# set option so that e.g. df.head() will show all columns and none are omitted \n",
    "pd.set_option('display.max_columns', None)\n",
    "\n",
    "import os\n",
    "print(\"Current working directory: \", os.getcwd())\n",
    "\n",
    "# Specify the year\n",
    "year = \"2010-2015\"  # Change this to the desired year\n",
    "\n",
    "# Define file paths based on the year\n",
    "csv_file_path = f\"..\\\\Data\\\\EU\\\\EU {year}.csv\"\n",
    "parquet_file_path = f\"..\\\\Data\\\\EU\\\\EU {year}_dtypes.parquet\"\n",
    "parquet_nanplaceholder_path = f\"..\\\\Data\\\\EU\\\\EU {year}_dtypes_nanplaceholder.parquet\"\n",
    "parquet_dupecounts_reduced_path = f\"..\\\\Data\\\\EU\\\\EU {year}_dtypes_nanplaceholder_dupecounts_reduced.parquet\""
   ]
  },
  {
   "cell_type": "code",
   "execution_count": 2,
   "metadata": {},
   "outputs": [
    {
     "name": "stdout",
     "output_type": "stream",
     "text": [
      "In the dataset for 2010-2015 these are the values of the \"year\" column: \n",
      "2015    431559\n",
      "2014    398047\n",
      "2013    380634\n",
      "2011    310767\n",
      "2012    307442\n",
      "2010    272279\n",
      "Name: year, dtype: Int64\n",
      "There are 2100728 rows in the dataset altogether and 2100728 entries for \"year\".\n",
      "\n",
      "In the dataset for 2016 these are the values of the \"year\" column: \n",
      "2016    444106\n",
      "Name: year, dtype: Int64\n",
      "There are 444106 rows in the dataset altogether and 444106 entries for \"year\".\n",
      "\n",
      "In the dataset for 2017 these are the values of the \"year\" column: \n",
      "2017    424145\n",
      "Name: year, dtype: Int64\n",
      "There are 424145 rows in the dataset altogether and 424145 entries for \"year\".\n",
      "\n",
      "In the dataset for 2018 these are the values of the \"year\" column: \n",
      "2018    1240905\n",
      "Name: year, dtype: Int64\n",
      "There are 1240905 rows in the dataset altogether and 1240905 entries for \"year\".\n",
      "\n",
      "In the dataset for 2019 these are the values of the \"year\" column: \n",
      "2019    2588053\n",
      "Name: year, dtype: Int64\n",
      "There are 2588053 rows in the dataset altogether and 2588053 entries for \"year\".\n",
      "\n",
      "In the dataset for 2020 these are the values of the \"year\" column: \n",
      "2020    2142188\n",
      "Name: year, dtype: Int64\n",
      "There are 2142188 rows in the dataset altogether and 2142188 entries for \"year\".\n",
      "\n",
      "In the dataset for 2021 these are the values of the \"year\" column: \n",
      "2021    1887853\n",
      "Name: year, dtype: Int64\n",
      "There are 1887853 rows in the dataset altogether and 1887853 entries for \"year\".\n",
      "\n",
      "In the dataset for 2022 these are the values of the \"year\" column: \n",
      "2022    1810698\n",
      "Name: year, dtype: Int64\n",
      "There are 1810698 rows in the dataset altogether and 1810698 entries for \"year\".\n",
      "\n",
      "In the dataset for 2023 these are the values of the \"year\" column: \n",
      "2023    1804116\n",
      "Name: year, dtype: Int64\n",
      "There are 1804116 rows in the dataset altogether and 1804116 entries for \"year\".\n",
      "\n"
     ]
    }
   ],
   "source": [
    "# as a prerequisit before merging (concatenating) the DFs, check if all rows are labeled with the correct year\n",
    "\n",
    "for year in [\"2010-2015\"] + [str(x) for x in range(2016,2024)]:\n",
    "    parquet_dupecounts_reduced_path = f\"..\\\\Data\\\\EU\\\\EU {year}_dtypes_nanplaceholder_dupecounts_reduced.parquet\"\n",
    "    df = pd.read_parquet(parquet_dupecounts_reduced_path)\n",
    "    years_in_year = df[\"year\"].value_counts()\n",
    "    print(f\"In the dataset for {year} these are the values of the \\\"year\\\" column: \\n{years_in_year}\")\n",
    "    rows_labeled_with_a_year = df[\"year\"].value_counts().sum()\n",
    "    print(f\"There are {len(df)} rows in the dataset altogether and {rows_labeled_with_a_year} entries for \\\"year\\\".\\n\")\n",
    "    \n",
    "    "
   ]
  },
  {
   "cell_type": "markdown",
   "metadata": {},
   "source": [
    "# Merge all years"
   ]
  },
  {
   "cell_type": "code",
   "execution_count": 3,
   "metadata": {},
   "outputs": [],
   "source": [
    "# Join all years vertically\n",
    "\n",
    "EU_dfs = []\n",
    "\n",
    "for year in [\"2010-2015\"] + [str(x) for x in range(2016, 2024)]:\n",
    "    parquet_dupecounts_reduced_path = f\"..\\\\Data\\\\EU\\\\EU {year}_dtypes_nanplaceholder_dupecounts_reduced.parquet\"\n",
    "    df = pd.read_parquet(parquet_dupecounts_reduced_path)\n",
    "    EU_dfs.append(df)\n",
    "\n",
    "EU_df = pd.concat(EU_dfs, axis = 0, ignore_index=True)"
   ]
  },
  {
   "cell_type": "code",
   "execution_count": 1,
   "metadata": {},
   "outputs": [
    {
     "ename": "NameError",
     "evalue": "name 'EU_df' is not defined",
     "output_type": "error",
     "traceback": [
      "\u001b[1;31m---------------------------------------------------------------------------\u001b[0m",
      "\u001b[1;31mNameError\u001b[0m                                 Traceback (most recent call last)",
      "Cell \u001b[1;32mIn[1], line 2\u001b[0m\n\u001b[0;32m      1\u001b[0m \u001b[38;5;66;03m# Display number of rows per year in merged df (can visually compare to above counts before merge)\u001b[39;00m\n\u001b[1;32m----> 2\u001b[0m \u001b[43mEU_df\u001b[49m[\u001b[38;5;124m\"\u001b[39m\u001b[38;5;124myear\u001b[39m\u001b[38;5;124m\"\u001b[39m]\u001b[38;5;241m.\u001b[39mvalue_counts()\u001b[38;5;241m.\u001b[39msort_index()\n",
      "\u001b[1;31mNameError\u001b[0m: name 'EU_df' is not defined"
     ]
    }
   ],
   "source": [
    "# Display number of rows per year in merged df (can visually compare to above counts before merge)\n",
    "EU_df[\"year\"].value_counts().sort_index()"
   ]
  },
  {
   "cell_type": "markdown",
   "metadata": {},
   "source": [
    "\n",
    "## save"
   ]
  },
  {
   "cell_type": "code",
   "execution_count": 5,
   "metadata": {},
   "outputs": [],
   "source": [
    "# Save merged Dataframe\n",
    "EU_df.to_parquet(\"..\\Data\\EU\\EU all.parquet\")"
   ]
  },
  {
   "cell_type": "code",
   "execution_count": null,
   "metadata": {},
   "outputs": [],
   "source": [
    "# load dataset\n",
    "df = pd.read_parquet(\"..\\Data\\EU\\EU all.parquet\")"
   ]
  },
  {
   "cell_type": "markdown",
   "metadata": {},
   "source": [
    "# Optimize dtypes"
   ]
  },
  {
   "cell_type": "code",
   "execution_count": 8,
   "metadata": {},
   "outputs": [
    {
     "name": "stdout",
     "output_type": "stream",
     "text": [
      "Total memory usage before optimization: 18702.28 MB\n",
      "Total memory usage after optimization: 1616.06 MB\n"
     ]
    }
   ],
   "source": [
    "# Optimize memory usage by checking if after the merge any column (dataype) can still be optimized/reduced\n",
    "\n",
    "def optimize_dtypes(df):\n",
    "    # Calculate total memory usage before optimization\n",
    "    before_mem = df.memory_usage(deep=True).sum()\n",
    "    print(f\"Total memory usage before optimization: {before_mem / 1024**2:.2f} MB\")\n",
    "    \n",
    "    # Convert all object type to category\n",
    "    obj_cols = df.select_dtypes(include=\"object\").columns\n",
    "    df[obj_cols] = df[obj_cols].astype(\"category\")\n",
    "    \n",
    "    # Downcast integer columns in place\n",
    "    int_cols = df.select_dtypes(include='int').columns\n",
    "    df[int_cols] = df[int_cols].apply(pd.to_numeric, downcast='integer')\n",
    "    \n",
    "    # Downcast float columns in place\n",
    "    float_cols = df.select_dtypes(include='float').columns\n",
    "    df[float_cols] = df[float_cols].apply(pd.to_numeric, downcast='float')\n",
    "    \n",
    "    # Calculate total memory usage after optimization\n",
    "    after_mem = df.memory_usage(deep=True).sum()\n",
    "    print(f\"Total memory usage after optimization: {after_mem / 1024**2:.2f} MB\")\n",
    "    \n",
    "optimize_dtypes(EU_df)"
   ]
  },
  {
   "cell_type": "code",
   "execution_count": 9,
   "metadata": {},
   "outputs": [
    {
     "name": "stdout",
     "output_type": "stream",
     "text": [
      "<class 'pandas.core.frame.DataFrame'>\n",
      "RangeIndex: 14442792 entries, 0 to 14442791\n",
      "Data columns (total 41 columns):\n",
      " #   Column                 Dtype   \n",
      "---  ------                 -----   \n",
      " 0   ID                     Int32   \n",
      " 1   Country                category\n",
      " 2   VFN                    category\n",
      " 3   Mp                     category\n",
      " 4   Mh                     category\n",
      " 5   Man                    category\n",
      " 6   MMS                    category\n",
      " 7   Tan                    category\n",
      " 8   T                      category\n",
      " 9   Va                     category\n",
      " 10  Ve                     category\n",
      " 11  Mk                     category\n",
      " 12  Cn                     category\n",
      " 13  Ct                     category\n",
      " 14  Cr                     category\n",
      " 15  r                      Int32   \n",
      " 16  m (kg)                 Int16   \n",
      " 17  Mt                     Int16   \n",
      " 18  Enedc (g/km)           Int16   \n",
      " 19  Ewltp (g/km)           Int16   \n",
      " 20  W (mm)                 Int16   \n",
      " 21  At1 (mm)               Int16   \n",
      " 22  At2 (mm)               Int16   \n",
      " 23  Ft                     category\n",
      " 24  Fm                     category\n",
      " 25  ec (cm3)               Int32   \n",
      " 26  ep (KW)                Int16   \n",
      " 27  z (Wh/km)              Int16   \n",
      " 28  IT                     category\n",
      " 29  Ernedc (g/km)          Float32 \n",
      " 30  Erwltp (g/km)          Float32 \n",
      " 31  De                     Float32 \n",
      " 32  Vf                     Int8    \n",
      " 33  Status                 category\n",
      " 34  year                   Int16   \n",
      " 35  Date of registration   category\n",
      " 36  Fuel consumption       Float32 \n",
      " 37  ech                    category\n",
      " 38  RLFI                   category\n",
      " 39  Electric range (km)    Int16   \n",
      " 40  #identical occurences  int16   \n",
      "dtypes: Float32(4), Int16(11), Int32(3), Int8(1), category(21), int16(1)\n",
      "memory usage: 1.5 GB\n"
     ]
    }
   ],
   "source": [
    "EU_df.info()  \n",
    "\n",
    "# shows that aside from object type being converted to category only #identical occurences was reduced from int64 to int16\n"
   ]
  },
  {
   "cell_type": "markdown",
   "metadata": {},
   "source": [
    "## save/read"
   ]
  },
  {
   "cell_type": "code",
   "execution_count": 10,
   "metadata": {},
   "outputs": [],
   "source": [
    "# Save again\n",
    "EU_df.to_parquet(\"..\\Data\\EU\\EU all_dtypes.parquet\")"
   ]
  },
  {
   "cell_type": "code",
   "execution_count": 26,
   "metadata": {},
   "outputs": [],
   "source": [
    "df = pd.read_parquet(\"..\\..\\data\\EU\\EU all_dtypes.parquet\")"
   ]
  },
  {
   "cell_type": "markdown",
   "metadata": {},
   "source": [
    "# Clean Tan"
   ]
  },
  {
   "cell_type": "code",
   "execution_count": 27,
   "metadata": {},
   "outputs": [],
   "source": [
    "EU_df = df"
   ]
  },
  {
   "cell_type": "code",
   "execution_count": 28,
   "metadata": {},
   "outputs": [
    {
     "name": "stdout",
     "output_type": "stream",
     "text": [
      "8505255 times e, 5436932 times E, sum = 13942187. #values in df: 14442792\n"
     ]
    }
   ],
   "source": [
    "# In column \"Tan\" (Type Approval number) fix inconsistent naming (capital \"E\" vs small \"e\")\n",
    "\n",
    "# 1. Check how many of each\n",
    "\n",
    "count_e = EU_df.Tan.apply(lambda x: x.startswith(\"e\")).sum()\n",
    "count_E = EU_df.Tan.apply(lambda x: x.startswith(\"E\")).sum()\n",
    "\n",
    "print(f\"{count_e} times e, {count_E} times E, sum = {count_E+count_e}. #values in df: {len(EU_df)}\")"
   ]
  },
  {
   "cell_type": "code",
   "execution_count": 29,
   "metadata": {},
   "outputs": [],
   "source": [
    "# 2. Change to consistent small \"e\"\n",
    "\n",
    "EU_df[\"Tan\"] = EU_df.Tan.apply(lambda x: \"e\" + x[1:] if x.startswith(\"E\") else x).astype(\"category\")"
   ]
  },
  {
   "cell_type": "code",
   "execution_count": 30,
   "metadata": {},
   "outputs": [
    {
     "name": "stdout",
     "output_type": "stream",
     "text": [
      "13942187 times e, 0 times E, sum = 13942187. #values in df: 14442792\n"
     ]
    }
   ],
   "source": [
    "# 3. Check if conversion successful\n",
    "\n",
    "count_e = EU_df.Tan.apply(lambda x: x.startswith(\"e\")).sum()\n",
    "count_E = EU_df.Tan.apply(lambda x: x.startswith(\"E\")).sum()\n",
    "\n",
    "print(f\"{count_e} times e, {count_E} times E, sum = {count_E+count_e}. #values in df: {len(EU_df)}\")"
   ]
  },
  {
   "cell_type": "code",
   "execution_count": 31,
   "metadata": {},
   "outputs": [
    {
     "name": "stdout",
     "output_type": "stream",
     "text": [
      "<class 'pandas.core.frame.DataFrame'>\n",
      "RangeIndex: 14442792 entries, 0 to 14442791\n",
      "Data columns (total 41 columns):\n",
      " #   Column                 Non-Null Count     Dtype   \n",
      "---  ------                 --------------     -----   \n",
      " 0   ID                     14442792 non-null  Int32   \n",
      " 1   Country                14442792 non-null  category\n",
      " 2   VFN                    14442792 non-null  category\n",
      " 3   Mp                     14442792 non-null  category\n",
      " 4   Mh                     14442792 non-null  category\n",
      " 5   Man                    14442792 non-null  category\n",
      " 6   MMS                    14442792 non-null  category\n",
      " 7   Tan                    14442792 non-null  category\n",
      " 8   T                      14442792 non-null  category\n",
      " 9   Va                     14442792 non-null  category\n",
      " 10  Ve                     14442792 non-null  category\n",
      " 11  Mk                     14442792 non-null  category\n",
      " 12  Cn                     14442792 non-null  category\n",
      " 13  Ct                     14442792 non-null  category\n",
      " 14  Cr                     14442792 non-null  category\n",
      " 15  r                      14442792 non-null  Int32   \n",
      " 16  m (kg)                 14442792 non-null  Int16   \n",
      " 17  Mt                     14442792 non-null  Int16   \n",
      " 18  Enedc (g/km)           14442792 non-null  Int16   \n",
      " 19  Ewltp (g/km)           14442792 non-null  Int16   \n",
      " 20  W (mm)                 14442792 non-null  Int16   \n",
      " 21  At1 (mm)               14442792 non-null  Int16   \n",
      " 22  At2 (mm)               14442792 non-null  Int16   \n",
      " 23  Ft                     14442792 non-null  category\n",
      " 24  Fm                     14442792 non-null  category\n",
      " 25  ec (cm3)               14442792 non-null  Int32   \n",
      " 26  ep (KW)                14442792 non-null  Int16   \n",
      " 27  z (Wh/km)              14442792 non-null  Int16   \n",
      " 28  IT                     14442792 non-null  category\n",
      " 29  Ernedc (g/km)          14442792 non-null  Float32 \n",
      " 30  Erwltp (g/km)          14442792 non-null  Float32 \n",
      " 31  De                     14442792 non-null  Float32 \n",
      " 32  Vf                     14442792 non-null  Int8    \n",
      " 33  Status                 14442792 non-null  category\n",
      " 34  year                   14442792 non-null  Int16   \n",
      " 35  Date of registration   14442792 non-null  category\n",
      " 36  Fuel consumption       14442792 non-null  Float32 \n",
      " 37  ech                    14442792 non-null  category\n",
      " 38  RLFI                   14442792 non-null  category\n",
      " 39  Electric range (km)    14442792 non-null  Int16   \n",
      " 40  #identical occurences  14442792 non-null  int16   \n",
      "dtypes: Float32(4), Int16(11), Int32(3), Int8(1), category(21), int16(1)\n",
      "memory usage: 1.5 GB\n"
     ]
    }
   ],
   "source": [
    "df.info(show_counts=True)"
   ]
  },
  {
   "cell_type": "code",
   "execution_count": 37,
   "metadata": {},
   "outputs": [
    {
     "name": "stdout",
     "output_type": "stream",
     "text": [
      "Empty DataFrame\n",
      "Columns: [ID, year, count]\n",
      "Index: []\n"
     ]
    }
   ],
   "source": [
    "# Group by 'ID' and 'year' and count occurrences\n",
    "duplicate_counts = df.groupby(['ID', 'year']).size().reset_index(name='count')\n",
    "\n",
    "# Filter rows where count is greater than 1 (indicating duplicates)\n",
    "duplicate_rows = duplicate_counts[duplicate_counts['count'] > 1]\n",
    "\n",
    "# Display the duplicate rows\n",
    "print(duplicate_rows)\n"
   ]
  },
  {
   "cell_type": "code",
   "execution_count": 43,
   "metadata": {},
   "outputs": [],
   "source": [
    "# Save again\n",
    "EU_df.to_parquet(\"..\\Data\\EU\\EU all_dtypes_Tan.parquet\")"
   ]
  },
  {
   "cell_type": "markdown",
   "metadata": {},
   "source": [
    "# Treat NaN"
   ]
  },
  {
   "cell_type": "markdown",
   "metadata": {},
   "source": [
    "## check missing/NAN"
   ]
  },
  {
   "cell_type": "code",
   "execution_count": 33,
   "metadata": {},
   "outputs": [
    {
     "name": "stdout",
     "output_type": "stream",
     "text": [
      "                   Column  np.nan  pd.NA       -99     \"-99\"\n",
      "0                      ID       0      0         0         0\n",
      "1                 Country       0      0         0         0\n",
      "2                     VFN       0      0         0   6022343\n",
      "3                      Mp       0      0         0   1538457\n",
      "4                      Mh       0      0         0         0\n",
      "5                     Man       0      0         0    310768\n",
      "6                     MMS       0      0         0   6048284\n",
      "7                     Tan       0      0         0    490543\n",
      "8                       T       0      0         0     62037\n",
      "9                      Va       0      0         0    100484\n",
      "10                     Ve       0      0         0    225223\n",
      "11                     Mk       0      0         0     42908\n",
      "12                     Cn       0      0         0     49370\n",
      "13                     Ct       0      0         0     24689\n",
      "14                     Cr       0      0         0   2811048\n",
      "15                      r       0      0         4         0\n",
      "16                 m (kg)       0      0     14075         0\n",
      "17                     Mt       0      0   3802983         0\n",
      "18           Enedc (g/km)       0      0   5466691         0\n",
      "19           Ewltp (g/km)       0      0   3565598         0\n",
      "20                 W (mm)       0      0   2252091         0\n",
      "21               At1 (mm)       0      0   2523206         0\n",
      "22               At2 (mm)       0      0   2738433         0\n",
      "23                     Ft       0      0         0      6689\n",
      "24                     Fm       0      0         0     80678\n",
      "25               ec (cm3)       0      0    613895         0\n",
      "26                ep (KW)       0      0   1401419         0\n",
      "27              z (Wh/km)       0      0  13141566         0\n",
      "28                     IT       0      0         0   9564034\n",
      "29          Ernedc (g/km)       0      0  12638415         0\n",
      "30          Erwltp (g/km)       0      0  11588146         0\n",
      "31                     De       0      0  14116055         0\n",
      "32                     Vf       0      0  13299530         0\n",
      "33                 Status       0      0         0         0\n",
      "34                   year       0      0         0         0\n",
      "35   Date of registration       0      0         0   9206861\n",
      "36      Fuel consumption        0      0  10470116         0\n",
      "37                    ech       0      0         0  13991213\n",
      "38                   RLFI       0      0         0  13685744\n",
      "39    Electric range (km)       0      0  13347797         0\n",
      "40  #identical occurences       0      0         0         0\n"
     ]
    }
   ],
   "source": [
    "# Now Check if missing values are consistently marked\n",
    "\n",
    "# For that purpose print number of pd.NA, np.nan, -99, \"-99\"\n",
    "\n",
    "df = EU_df\n",
    "\n",
    "# Initialize a list to store the counts\n",
    "counts_list = []\n",
    "\n",
    "for col in df.columns:\n",
    "    data = df[col]\n",
    "    \n",
    "    # Initialize counts\n",
    "    nan_count = 0\n",
    "    pd_na_count = 0\n",
    "    minus_99_count = 0\n",
    "    str_minus_99_count = 0\n",
    "\n",
    "    # Total missing values (np.nan and pd.NA)\n",
    "    total_missing = data.isna().sum()\n",
    "\n",
    "    # For numeric columns (floats and integers)\n",
    "    if pd.api.types.is_numeric_dtype(data):\n",
    "        # Missing values are represented as np.nan\n",
    "        nan_count = total_missing\n",
    "        \n",
    "        # Count occurrences of -99\n",
    "        minus_99_count = (data == -99).sum()\n",
    "    \n",
    "    # For categorical columns\n",
    "    elif pd.api.types.is_categorical_dtype(data):\n",
    "        # Missing values are represented as pd.NA\n",
    "        pd_na_count = total_missing\n",
    "        \n",
    "        # Count occurrences of \"-99\" as a string\n",
    "        str_minus_99_count = (data == \"-99\").sum()\n",
    "    \n",
    "    # For object (string) columns\n",
    "    elif pd.api.types.is_object_dtype(data):\n",
    "        # Missing values can be np.nan, pd.NA, or None\n",
    "        total_missing = data.isna().sum()\n",
    "        \n",
    "        # Attempt to differentiate between np.nan and pd.NA\n",
    "        # Convert data to a NumPy array for element-wise comparison\n",
    "        values = data.to_numpy()\n",
    "\n",
    "        # Create masks for np.nan and pd.NA\n",
    "        nan_mask = pd.isna(values) & (values != pd.NA)\n",
    "        pd_na_mask = pd.isna(values) & (values == pd.NA)\n",
    "\n",
    "        nan_count = nan_mask.sum()\n",
    "        pd_na_count = pd_na_mask.sum()\n",
    "        \n",
    "        # Count occurrences of -99 (as numeric) and \"-99\" (as string)\n",
    "        minus_99_count = (data == -99).sum()\n",
    "        str_minus_99_count = (data == \"-99\").sum()\n",
    "    \n",
    "    else:\n",
    "        # For other data types, count total missing as np.nan\n",
    "        nan_count = total_missing\n",
    "    \n",
    "    # Append the counts to the list\n",
    "    counts_list.append({\n",
    "        'Column': col,\n",
    "        'np.nan': nan_count,\n",
    "        'pd.NA': pd_na_count,\n",
    "        '-99': minus_99_count,\n",
    "        '\"-99\"': str_minus_99_count\n",
    "    })\n",
    "\n",
    "# Convert the list to a DataFrame\n",
    "counts_df = pd.DataFrame(counts_list)\n",
    "\n",
    "# Display the counts DataFrame\n",
    "print(counts_df)\n"
   ]
  },
  {
   "cell_type": "markdown",
   "metadata": {},
   "source": [
    "## convert missing and dtypes"
   ]
  },
  {
   "cell_type": "code",
   "execution_count": null,
   "metadata": {},
   "outputs": [
    {
     "name": "stdout",
     "output_type": "stream",
     "text": [
      "Total memory usage before optimization: 1613.99 MB\n",
      "Numerical columns to be converted: ['r', 'm (kg)', 'Mt', 'Enedc (g/km)', 'Ewltp (g/km)', 'W (mm)', 'At1 (mm)', 'At2 (mm)', 'ec (cm3)', 'ep (KW)', 'z (Wh/km)', 'Ernedc (g/km)', 'Erwltp (g/km)', 'De', 'Vf', 'Fuel consumption ', 'Electric range (km)', '#identical occurences']\n",
      "Column 'r' converted to float32.\n",
      "Column 'm (kg)' converted to float32.\n",
      "Column 'Mt' converted to float32.\n",
      "Column 'Enedc (g/km)' converted to float32.\n",
      "Column 'Ewltp (g/km)' converted to float32.\n",
      "Column 'W (mm)' converted to float32.\n",
      "Column 'At1 (mm)' converted to float32.\n",
      "Column 'At2 (mm)' converted to float32.\n",
      "Column 'ec (cm3)' converted to float32.\n",
      "Column 'ep (KW)' converted to float32.\n",
      "Column 'z (Wh/km)' converted to float32.\n",
      "Column 'Ernedc (g/km)' converted to float32.\n",
      "Column 'Erwltp (g/km)' converted to float32.\n",
      "Column 'De' converted to float32.\n",
      "Column 'Vf' converted to float32.\n",
      "Column 'Fuel consumption ' converted to float32.\n",
      "Column 'Electric range (km)' converted to float32.\n",
      "Column '#identical occurences' converted to float32.\n",
      "Column 'ID' processed for missing values with Int64 dtype.\n",
      "Column 'year' processed for missing values with Int64 dtype.\n",
      "Category columns: ['Country', 'VFN', 'Mp', 'Mh', 'Man', 'MMS', 'Tan', 'T', 'Va', 'Ve', 'Mk', 'Cn', 'Ct', 'Cr', 'Ft', 'Fm', 'IT', 'Status', 'Date of registration', 'ech', 'RLFI']\n",
      "Column 'Country' processed for missing values.\n",
      "Column 'VFN' processed for missing values.\n",
      "Column 'Mp' processed for missing values.\n",
      "Column 'Mh' processed for missing values.\n",
      "Column 'Man' processed for missing values.\n",
      "Column 'MMS' processed for missing values.\n",
      "Column 'Tan' processed for missing values.\n",
      "Column 'T' processed for missing values.\n",
      "Column 'Va' processed for missing values.\n",
      "Column 'Ve' processed for missing values.\n",
      "Column 'Mk' processed for missing values.\n",
      "Column 'Cn' processed for missing values.\n",
      "Column 'Ct' processed for missing values.\n",
      "Column 'Cr' processed for missing values.\n",
      "Column 'Ft' processed for missing values.\n",
      "Column 'Fm' processed for missing values.\n",
      "Column 'IT' processed for missing values.\n",
      "Column 'Status' processed for missing values.\n",
      "Column 'Date of registration' processed for missing values.\n",
      "Column 'ech' processed for missing values.\n",
      "Column 'RLFI' processed for missing values.\n",
      "Object columns: []\n",
      "\n",
      "Data types after conversion:\n",
      "ID                          Int64\n",
      "Country                  category\n",
      "VFN                      category\n",
      "Mp                       category\n",
      "Mh                       category\n",
      "Man                      category\n",
      "MMS                      category\n",
      "Tan                      category\n",
      "T                        category\n",
      "Va                       category\n",
      "Ve                       category\n",
      "Mk                       category\n",
      "Cn                       category\n",
      "Ct                       category\n",
      "Cr                       category\n",
      "r                         float32\n",
      "m (kg)                    float32\n",
      "Mt                        float32\n",
      "Enedc (g/km)              float32\n",
      "Ewltp (g/km)              float32\n",
      "W (mm)                    float32\n",
      "At1 (mm)                  float32\n",
      "At2 (mm)                  float32\n",
      "Ft                       category\n",
      "Fm                       category\n",
      "ec (cm3)                  float32\n",
      "ep (KW)                   float32\n",
      "z (Wh/km)                 float32\n",
      "IT                       category\n",
      "Ernedc (g/km)             float32\n",
      "Erwltp (g/km)             float32\n",
      "De                        float32\n",
      "Vf                        float32\n",
      "Status                   category\n",
      "year                        Int64\n",
      "Date of registration     category\n",
      "Fuel consumption          float32\n",
      "ech                      category\n",
      "RLFI                     category\n",
      "Electric range (km)       float32\n",
      "#identical occurences     float32\n",
      "dtype: object\n",
      "\n",
      "Total memory usage after optimization: 1861.91 MB\n",
      "Memory usage difference: 247.93 MB\n"
     ]
    }
   ],
   "source": [
    "# Convert all missing values (-99, \"-99\") to np.nan for numerical values and pd.NA for categorical, respectively\n",
    "# Also make all numerical cols float32 (can handle np.nan).\n",
    "# This increases memory usage slightly but gives better consistency and compatibility with numpy, pandas and other libraries\n",
    "\n",
    "df = EU_df\n",
    "\n",
    "# Calculate total memory usage before optimization\n",
    "before_mem = df.memory_usage(deep=True).sum()\n",
    "print(f\"Total memory usage before optimization: {before_mem / 1024**2:.2f} MB\")\n",
    "\n",
    "# Identify all numerical columns (both integer and float)\n",
    "num_cols = df.select_dtypes(include=['number']).columns.tolist()\n",
    "num_cols = [col for col in num_cols if col not in ['ID', 'year']]\n",
    "print(f\"Numerical columns to be converted: {num_cols}\")\n",
    "\n",
    "# Replace -99 with np.nan and convert numerical columns to float32\n",
    "for col in num_cols:\n",
    "    # Replace -99 with np.nan if necessary\n",
    "    df[col] = df[col].replace(-99, np.nan)\n",
    "    # Convert to float32\n",
    "    df[col] = df[col].astype('float32')\n",
    "    print(f\"Column '{col}' converted to float32.\")\n",
    "    \n",
    "# For 'ID' and 'year', handle missing values appropriately and convert to Int64 data type\n",
    "for col in ['ID', 'year']:\n",
    "    df[col] = df[col].replace(-99, np.nan)\n",
    "    # To handle NaN in integer columns, convert to pandas nullable integer type\n",
    "    df[col] = df[col].astype('Int64')\n",
    "    print(f\"Column '{col}' processed for missing values with Int64 dtype.\")\n",
    "\n",
    "# Replace -99 in category columns\n",
    "cat_cols = df.select_dtypes(include=['category']).columns.tolist()\n",
    "print(f\"Category columns: {cat_cols}\")\n",
    "\n",
    "for col in cat_cols:\n",
    "    # Convert to object, replace -99 with pd.NA, and convert back to category\n",
    "    df[col] = df[col].astype('object')\n",
    "     # Replace '-99' (string) with np.nan\n",
    "    df[col] = df[col].replace('-99', np.nan)\n",
    "    # Replace -99 (integer) with np.nan\n",
    "    df[col] = df[col].replace(-99, np.nan)\n",
    "    # Convert back to category\n",
    "    df[col] = df[col].astype('category')\n",
    "    print(f\"Column '{col}' processed for missing values.\")\n",
    "\n",
    "# Replace -99 in object columns\n",
    "obj_cols = df.select_dtypes(include=['object']).columns.tolist()\n",
    "print(f\"Object columns: {obj_cols}\")\n",
    "\n",
    "for col in obj_cols:\n",
    "    # Replace '-99' (string) with np.nan\n",
    "    df[col] = df[col].replace('-99', np.nan)\n",
    "    # Replace -99 (integer) with np.nan\n",
    "    df[col] = df[col].replace(-99, np.nan)\n",
    "    print(f\"Column '{col}' processed for missing values.\")\n",
    "\n",
    "# Verify data types and memory usage\n",
    "print(\"\\nData types after conversion:\")\n",
    "print(df.dtypes)\n",
    "\n",
    "# Calculate total memory usage after optimization\n",
    "after_mem = df.memory_usage(deep=True).sum()\n",
    "print(f\"\\nTotal memory usage after optimization: {after_mem / 1024**2:.2f} MB\")\n",
    "\n",
    "# Print the memory usage difference\n",
    "memory_difference = after_mem - before_mem\n",
    "print(f\"Memory usage difference: {memory_difference / 1024**2:.2f} MB\")\n"
   ]
  },
  {
   "cell_type": "markdown",
   "metadata": {},
   "source": [
    "## save/read"
   ]
  },
  {
   "cell_type": "code",
   "execution_count": 39,
   "metadata": {},
   "outputs": [],
   "source": [
    "# Save again\n",
    "\n",
    "EU_df.to_parquet(\"..\\..\\data\\EU\\EU all_dtypes_Tan_NaN_float32_Int64.parquet\")\n"
   ]
  },
  {
   "cell_type": "code",
   "execution_count": 2,
   "metadata": {},
   "outputs": [],
   "source": [
    "EU_df = pd.read_parquet(\"..\\..\\data\\EU\\EU all_dtypes_Tan_NaN_float32_Int64.parquet\")"
   ]
  },
  {
   "cell_type": "markdown",
   "metadata": {},
   "source": [
    "## None, NaN, NA sandbox"
   ]
  },
  {
   "cell_type": "markdown",
   "metadata": {},
   "source": [
    "## f: identify_nan_value"
   ]
  },
  {
   "cell_type": "code",
   "execution_count": 12,
   "metadata": {},
   "outputs": [
    {
     "name": "stdout",
     "output_type": "stream",
     "text": [
      "It's np.nan\n"
     ]
    }
   ],
   "source": [
    "import numpy as np\n",
    "import pandas as pd\n",
    "import math\n",
    "\n",
    "def identify_nan_value(value):\n",
    "    # Check if it's a string that looks like \"nan\" or \"None\"\n",
    "    if isinstance(value, str):\n",
    "        if value == 'nan':\n",
    "            return \"It's a string 'nan'\"\n",
    "        elif value == 'None':\n",
    "            return \"It's a string 'None'\"\n",
    "        else:\n",
    "            return f\"It's a regular string: {value}\"\n",
    "    \n",
    "    # Check for pd.NA (specific pandas type)\n",
    "    elif type(value) == pd._libs.missing.NAType:\n",
    "        return \"It's pd.NA\"\n",
    "    \n",
    "    # Check for None (Python's NoneType)\n",
    "    elif value is None:\n",
    "        return \"It's None\"\n",
    "    \n",
    "    # Check for np.nan or float('nan')\n",
    "    elif isinstance(value, float) and math.isnan(value):\n",
    "        return \"It's np.nan\"\n",
    "    \n",
    "    else:\n",
    "        return f\"It's another value: {value}\"\n",
    "\n",
    "# Example usage\n",
    "value = df.MMS.iloc[2]\n",
    "result = identify_nan_value(value)\n",
    "print(result)\n"
   ]
  },
  {
   "cell_type": "code",
   "execution_count": 14,
   "metadata": {},
   "outputs": [
    {
     "name": "stdout",
     "output_type": "stream",
     "text": [
      "nan\n"
     ]
    }
   ],
   "source": [
    "print(df.MMS.iloc[2])"
   ]
  },
  {
   "cell_type": "code",
   "execution_count": 10,
   "metadata": {},
   "outputs": [
    {
     "data": {
      "text/plain": [
       "float"
      ]
     },
     "execution_count": 10,
     "metadata": {},
     "output_type": "execute_result"
    }
   ],
   "source": [
    "type(df.MMS.iloc[2])\n"
   ]
  },
  {
   "cell_type": "code",
   "execution_count": 16,
   "metadata": {},
   "outputs": [
    {
     "data": {
      "text/plain": [
       "0    NaN\n",
       "1    NaN\n",
       "2    NaN\n",
       "3    NaN\n",
       "4    NaN\n",
       "Name: VFN, dtype: category\n",
       "Categories (29048, object): [' IP-02-VF7-2018-7220 ', ' IP-24-WBA-2017-4112', ' IP-24-WBA-2017-4139', ' IP-24-WBA-2017-4142', ..., 'ÎP202_2411-W1K-1', 'Î™P-e3-1C4-2018-0013', 'Î™P-e3-1C4-2018-0015', 'ÏP-C519_2019_00007-WF0-1']"
      ]
     },
     "execution_count": 16,
     "metadata": {},
     "output_type": "execute_result"
    }
   ],
   "source": [
    "df.VFN.head()"
   ]
  },
  {
   "cell_type": "code",
   "execution_count": 21,
   "metadata": {},
   "outputs": [
    {
     "name": "stdout",
     "output_type": "stream",
     "text": [
      "nan <class 'float'>\n"
     ]
    }
   ],
   "source": [
    "print(df.VFN.iloc[0], type(df.VFN.iloc[0]))"
   ]
  },
  {
   "cell_type": "code",
   "execution_count": 22,
   "metadata": {},
   "outputs": [],
   "source": [
    "df.VFN.iloc[0] = pd.NA"
   ]
  },
  {
   "cell_type": "code",
   "execution_count": 23,
   "metadata": {},
   "outputs": [
    {
     "name": "stdout",
     "output_type": "stream",
     "text": [
      "nan <class 'float'>\n"
     ]
    }
   ],
   "source": [
    "print(df.VFN.iloc[0], type(df.VFN.iloc[0]))"
   ]
  },
  {
   "cell_type": "code",
   "execution_count": 60,
   "metadata": {},
   "outputs": [
    {
     "data": {
      "text/plain": [
       "\"It's np.nan\""
      ]
     },
     "execution_count": 60,
     "metadata": {},
     "output_type": "execute_result"
    }
   ],
   "source": [
    "identify_nan_value(df.VFN.iloc[0])"
   ]
  },
  {
   "cell_type": "code",
   "execution_count": 48,
   "metadata": {},
   "outputs": [],
   "source": [
    "df2 = pd.DataFrame({'num': [1,2,3,4],\n",
    "                    'string': ['A','B','C','D'],\n",
    "                    'cat': ['Eins','Zwei', 'Zwei', 'Zwei']})"
   ]
  },
  {
   "cell_type": "code",
   "execution_count": 33,
   "metadata": {},
   "outputs": [
    {
     "data": {
      "text/html": [
       "<div>\n",
       "<style scoped>\n",
       "    .dataframe tbody tr th:only-of-type {\n",
       "        vertical-align: middle;\n",
       "    }\n",
       "\n",
       "    .dataframe tbody tr th {\n",
       "        vertical-align: top;\n",
       "    }\n",
       "\n",
       "    .dataframe thead th {\n",
       "        text-align: right;\n",
       "    }\n",
       "</style>\n",
       "<table border=\"1\" class=\"dataframe\">\n",
       "  <thead>\n",
       "    <tr style=\"text-align: right;\">\n",
       "      <th></th>\n",
       "      <th>num</th>\n",
       "      <th>string</th>\n",
       "      <th>cat</th>\n",
       "    </tr>\n",
       "  </thead>\n",
       "  <tbody>\n",
       "    <tr>\n",
       "      <th>0</th>\n",
       "      <td>1</td>\n",
       "      <td>A</td>\n",
       "      <td>Eins</td>\n",
       "    </tr>\n",
       "    <tr>\n",
       "      <th>1</th>\n",
       "      <td>2</td>\n",
       "      <td>B</td>\n",
       "      <td>Zwei</td>\n",
       "    </tr>\n",
       "    <tr>\n",
       "      <th>2</th>\n",
       "      <td>3</td>\n",
       "      <td>C</td>\n",
       "      <td>Zwei</td>\n",
       "    </tr>\n",
       "    <tr>\n",
       "      <th>3</th>\n",
       "      <td>4</td>\n",
       "      <td>D</td>\n",
       "      <td>Zwei</td>\n",
       "    </tr>\n",
       "  </tbody>\n",
       "</table>\n",
       "</div>"
      ],
      "text/plain": [
       "   num string   cat\n",
       "0    1      A  Eins\n",
       "1    2      B  Zwei\n",
       "2    3      C  Zwei\n",
       "3    4      D  Zwei"
      ]
     },
     "execution_count": 33,
     "metadata": {},
     "output_type": "execute_result"
    }
   ],
   "source": [
    "df2"
   ]
  },
  {
   "cell_type": "code",
   "execution_count": 49,
   "metadata": {},
   "outputs": [],
   "source": [
    "for col in df2.columns:\n",
    "    df2.loc[0, col] = None\n",
    "    df2.loc[1, col] = np.nan\n",
    "    df2.loc[2, col] = pd.NA"
   ]
  },
  {
   "cell_type": "code",
   "execution_count": 54,
   "metadata": {},
   "outputs": [],
   "source": [
    "for col in range(3):\n",
    "    df2.iloc[0, col] = None\n",
    "    df2.iloc[1, col] = np.nan\n",
    "    df2.iloc[2, col] = pd.NA"
   ]
  },
  {
   "cell_type": "code",
   "execution_count": 55,
   "metadata": {},
   "outputs": [
    {
     "name": "stdout",
     "output_type": "stream",
     "text": [
      "   num string   cat\n",
      "0  NaN   None  None\n",
      "1  NaN    NaN   NaN\n",
      "2  NaN   <NA>  <NA>\n",
      "3  4.0      D  Zwei\n"
     ]
    }
   ],
   "source": [
    "print(df2.head())"
   ]
  },
  {
   "cell_type": "code",
   "execution_count": 59,
   "metadata": {},
   "outputs": [
    {
     "name": "stdout",
     "output_type": "stream",
     "text": [
      "nan It's np.nan\n",
      "nan It's np.nan\n",
      "nan It's np.nan\n",
      "4.0 It's another value: 4.0\n",
      "None It's None\n",
      "nan It's np.nan\n",
      "<NA> It's pd.NA\n",
      "D It's a regular string: D\n",
      "None It's None\n",
      "nan It's np.nan\n",
      "<NA> It's pd.NA\n",
      "Zwei It's a regular string: Zwei\n"
     ]
    }
   ],
   "source": [
    "for col in df2:\n",
    "    for i in df2[col]:\n",
    "        print(i, identify_nan_value(i))"
   ]
  },
  {
   "cell_type": "markdown",
   "metadata": {},
   "source": [
    "## check if NaN conversion successfull"
   ]
  },
  {
   "cell_type": "code",
   "execution_count": 3,
   "metadata": {},
   "outputs": [
    {
     "name": "stdout",
     "output_type": "stream",
     "text": [
      "                   Column    np.nan     pd.NA  -99  \"-99\"\n",
      "0                      ID         0         0    0      0\n",
      "1                 Country         0         0    0      0\n",
      "2                     VFN         0   6022343    0      0\n",
      "3                      Mp         0   1538457    0      0\n",
      "4                      Mh         0         0    0      0\n",
      "5                     Man         0    310768    0      0\n",
      "6                     MMS         0   6048284    0      0\n",
      "7                     Tan         0    490543    0      0\n",
      "8                       T         0     62037    0      0\n",
      "9                      Va         0    100484    0      0\n",
      "10                     Ve         0    225223    0      0\n",
      "11                     Mk         0     42908    0      0\n",
      "12                     Cn         0     49370    0      0\n",
      "13                     Ct         0     24689    0      0\n",
      "14                     Cr         0   2811048    0      0\n",
      "15                      r         4         0    0      0\n",
      "16                 m (kg)     14075         0    0      0\n",
      "17                     Mt   3802983         0    0      0\n",
      "18           Enedc (g/km)   5466691         0    0      0\n",
      "19           Ewltp (g/km)   3565598         0    0      0\n",
      "20                 W (mm)   2252091         0    0      0\n",
      "21               At1 (mm)   2523206         0    0      0\n",
      "22               At2 (mm)   2738433         0    0      0\n",
      "23                     Ft         0      6689    0      0\n",
      "24                     Fm         0     80678    0      0\n",
      "25               ec (cm3)    613895         0    0      0\n",
      "26                ep (KW)   1401419         0    0      0\n",
      "27              z (Wh/km)  13141566         0    0      0\n",
      "28                     IT         0   9564034    0      0\n",
      "29          Ernedc (g/km)  12638415         0    0      0\n",
      "30          Erwltp (g/km)  11588146         0    0      0\n",
      "31                     De  14116055         0    0      0\n",
      "32                     Vf  13299530         0    0      0\n",
      "33                 Status         0         0    0      0\n",
      "34                   year         0         0    0      0\n",
      "35   Date of registration         0   9206861    0      0\n",
      "36      Fuel consumption   10470116         0    0      0\n",
      "37                    ech         0  13991213    0      0\n",
      "38                   RLFI         0  13685744    0      0\n",
      "39    Electric range (km)  13347797         0    0      0\n",
      "40  #identical occurences         0         0    0      0\n"
     ]
    }
   ],
   "source": [
    "# Check if conversion successfull\n",
    "# Therefore again print number of pd.NA, np.nan, -99, \"-99\" (maybe better clean up the code and make a proper fuction out of that (and others))\n",
    "\n",
    "df = EU_df\n",
    "\n",
    "# Initialize a list to store the counts\n",
    "counts_list = []\n",
    "\n",
    "for col in df.columns:\n",
    "    data = df[col]\n",
    "    \n",
    "    # Initialize counts\n",
    "    nan_count = 0\n",
    "    pd_na_count = 0\n",
    "    minus_99_count = 0\n",
    "    str_minus_99_count = 0\n",
    "\n",
    "    # Total missing values (np.nan and pd.NA)\n",
    "    total_missing = data.isna().sum()\n",
    "\n",
    "    # For numeric columns (floats and integers)\n",
    "    if pd.api.types.is_numeric_dtype(data):\n",
    "        # Missing values are represented as np.nan\n",
    "        nan_count = total_missing\n",
    "        \n",
    "        # Count occurrences of -99\n",
    "        minus_99_count = (data == -99).sum()\n",
    "    \n",
    "    # For categorical columns\n",
    "    elif pd.api.types.is_categorical_dtype(data):\n",
    "        # Missing values are represented as pd.NA\n",
    "        pd_na_count = total_missing\n",
    "        \n",
    "        # Count occurrences of \"-99\" as a string\n",
    "        str_minus_99_count = (data == \"-99\").sum()\n",
    "    \n",
    "    # For object (string) columns\n",
    "    elif pd.api.types.is_object_dtype(data):\n",
    "        # Missing values can be np.nan, pd.NA, or None\n",
    "        total_missing = data.isna().sum()\n",
    "        \n",
    "        # Attempt to differentiate between np.nan and pd.NA\n",
    "        # Convert data to a NumPy array for element-wise comparison\n",
    "        values = data.to_numpy()\n",
    "\n",
    "        # Create masks for np.nan and pd.NA\n",
    "        nan_mask = pd.isna(values) & (values != pd.NA)\n",
    "        pd_na_mask = pd.isna(values) & (values == pd.NA)\n",
    "\n",
    "        nan_count = nan_mask.sum()\n",
    "        pd_na_count = pd_na_mask.sum()\n",
    "        \n",
    "        # Count occurrences of -99 (as numeric) and \"-99\" (as string)\n",
    "        minus_99_count = (data == -99).sum()\n",
    "        str_minus_99_count = (data == \"-99\").sum()\n",
    "    \n",
    "    else:\n",
    "        # For other data types, count total missing as np.nan\n",
    "        nan_count = total_missing\n",
    "    \n",
    "    # Append the counts to the list\n",
    "    counts_list.append({\n",
    "        'Column': col,\n",
    "        'np.nan': nan_count,\n",
    "        'pd.NA': pd_na_count,\n",
    "        '-99': minus_99_count,\n",
    "        '\"-99\"': str_minus_99_count\n",
    "    })\n",
    "\n",
    "# Convert the list to a DataFrame\n",
    "counts_df = pd.DataFrame(counts_list)\n",
    "\n",
    "# Display the counts DataFrame\n",
    "print(counts_df)\n"
   ]
  },
  {
   "cell_type": "code",
   "execution_count": 36,
   "metadata": {},
   "outputs": [
    {
     "name": "stdout",
     "output_type": "stream",
     "text": [
      "<class 'pandas.core.frame.DataFrame'>\n",
      "RangeIndex: 14442792 entries, 0 to 14442791\n",
      "Data columns (total 41 columns):\n",
      " #   Column                 Dtype   \n",
      "---  ------                 -----   \n",
      " 0   ID                     Int64   \n",
      " 1   Country                category\n",
      " 2   VFN                    category\n",
      " 3   Mp                     category\n",
      " 4   Mh                     category\n",
      " 5   Man                    category\n",
      " 6   MMS                    category\n",
      " 7   Tan                    category\n",
      " 8   T                      category\n",
      " 9   Va                     category\n",
      " 10  Ve                     category\n",
      " 11  Mk                     category\n",
      " 12  Cn                     category\n",
      " 13  Ct                     category\n",
      " 14  Cr                     category\n",
      " 15  r                      float32 \n",
      " 16  m (kg)                 float32 \n",
      " 17  Mt                     float32 \n",
      " 18  Enedc (g/km)           float32 \n",
      " 19  Ewltp (g/km)           float32 \n",
      " 20  W (mm)                 float32 \n",
      " 21  At1 (mm)               float32 \n",
      " 22  At2 (mm)               float32 \n",
      " 23  Ft                     category\n",
      " 24  Fm                     category\n",
      " 25  ec (cm3)               float32 \n",
      " 26  ep (KW)                float32 \n",
      " 27  z (Wh/km)              float32 \n",
      " 28  IT                     category\n",
      " 29  Ernedc (g/km)          float32 \n",
      " 30  Erwltp (g/km)          float32 \n",
      " 31  De                     float32 \n",
      " 32  Vf                     float32 \n",
      " 33  Status                 category\n",
      " 34  year                   Int64   \n",
      " 35  Date of registration   category\n",
      " 36  Fuel consumption       float32 \n",
      " 37  ech                    category\n",
      " 38  RLFI                   category\n",
      " 39  Electric range (km)    float32 \n",
      " 40  #identical occurences  float32 \n",
      "dtypes: Int64(2), category(21), float32(18)\n",
      "memory usage: 1.8 GB\n"
     ]
    }
   ],
   "source": [
    "EU_df.info()"
   ]
  },
  {
   "cell_type": "markdown",
   "metadata": {},
   "source": [
    "# Histplot Ewltp"
   ]
  },
  {
   "cell_type": "code",
   "execution_count": 19,
   "metadata": {},
   "outputs": [
    {
     "data": {
      "text/plain": [
       "<Axes: xlabel='Ewltp (g/km)', ylabel='Count'>"
      ]
     },
     "execution_count": 19,
     "metadata": {},
     "output_type": "execute_result"
    },
    {
     "data": {
      "image/png": "[encoded data removed]",
      "text/plain": [
       "<Figure size 640x480 with 1 Axes>"
      ]
     },
     "metadata": {},
     "output_type": "display_data"
    }
   ],
   "source": [
    "# Quick histplot of likely target variable\n",
    "sn.histplot(x = \"Ewltp (g/km)\", data = EU_df, bins = 100)"
   ]
  },
  {
   "cell_type": "markdown",
   "metadata": {},
   "source": [
    "# dupe removal possibilites"
   ]
  },
  {
   "cell_type": "code",
   "execution_count": 20,
   "metadata": {},
   "outputs": [
    {
     "data": {
      "text/plain": [
       "53719"
      ]
     },
     "execution_count": 20,
     "metadata": {},
     "output_type": "execute_result"
    }
   ],
   "source": [
    "# Check how many additional dupes can be removed after the merge\n",
    "drop_cols=['Date of registration', 'ID', \"year\", \"#identical occurences\"]\n",
    "group_cols = [col for col in df.columns if col not in drop_cols]\n",
    "\n",
    "EU_df.duplicated(subset = group_cols).sum()"
   ]
  },
  {
   "cell_type": "code",
   "execution_count": 21,
   "metadata": {},
   "outputs": [
    {
     "data": {
      "text/plain": [
       "208441"
      ]
     },
     "execution_count": 21,
     "metadata": {},
     "output_type": "execute_result"
    }
   ],
   "source": [
    "# Check how many dupes if we include identicals between countries\n",
    "drop_cols=['Date of registration', 'ID', \"year\", \"#identical occurences\", \"Country\"]\n",
    "group_cols = [col for col in df.columns if col not in drop_cols]\n",
    "\n",
    "EU_df.duplicated(subset = group_cols).sum()"
   ]
  },
  {
   "cell_type": "code",
   "execution_count": 22,
   "metadata": {},
   "outputs": [
    {
     "data": {
      "text/plain": [
       "Index(['ID', 'Country', 'VFN', 'Mp', 'Mh', 'Man', 'MMS', 'Tan', 'T', 'Va',\n",
       "       'Ve', 'Mk', 'Cn', 'Ct', 'Cr', 'r', 'm (kg)', 'Mt', 'Enedc (g/km)',\n",
       "       'Ewltp (g/km)', 'W (mm)', 'At1 (mm)', 'At2 (mm)', 'Ft', 'Fm',\n",
       "       'ec (cm3)', 'ep (KW)', 'z (Wh/km)', 'IT', 'Ernedc (g/km)',\n",
       "       'Erwltp (g/km)', 'De', 'Vf', 'Status', 'year', 'Date of registration',\n",
       "       'Fuel consumption ', 'ech', 'RLFI', 'Electric range (km)',\n",
       "       '#identical occurences'],\n",
       "      dtype='object')"
      ]
     },
     "execution_count": 22,
     "metadata": {},
     "output_type": "execute_result"
    }
   ],
   "source": [
    "EU_df.columns"
   ]
  },
  {
   "cell_type": "code",
   "execution_count": 23,
   "metadata": {},
   "outputs": [
    {
     "data": {
      "text/plain": [
       "5648196"
      ]
     },
     "execution_count": 23,
     "metadata": {},
     "output_type": "execute_result"
    }
   ],
   "source": [
    "# ignore most of the categorical cols about manufacurer, type etc. and see how many dupes would result\n",
    "drop_cols=['Date of registration', 'ID', \"year\", \"#identical occurences\", \"Country\", 'VFN', 'Mp', 'Mh', 'Man', 'MMS', 'Tan', 'T', 'Va',\n",
    "       'Ve', 'Mk', 'Cn', 'Ct', 'Cr', 'r']\n",
    "group_cols = [col for col in df.columns if col not in drop_cols]\n",
    "\n",
    "EU_df.duplicated(subset = group_cols).sum()"
   ]
  }
 ],
 "metadata": {
  "kernelspec": {
   "display_name": "DS_CO2_Project",
   "language": "python",
   "name": "python3"
  },
  "language_info": {
   "codemirror_mode": {
    "name": "ipython",
    "version": 3
   },
   "file_extension": ".py",
   "mimetype": "text/x-python",
   "name": "python",
   "nbconvert_exporter": "python",
   "pygments_lexer": "ipython3",
   "version": "3.9.16"
  }
 },
 "nbformat": 4,
 "nbformat_minor": 2
}
